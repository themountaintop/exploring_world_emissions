{
 "cells": [
  {
   "cell_type": "code",
   "execution_count": 2,
   "id": "73c509d6",
   "metadata": {},
   "outputs": [],
   "source": [
    "import pandas as pd\n",
    "import numpy as np\n",
    "import matplotlib.pyplot as plt"
   ]
  },
  {
   "cell_type": "markdown",
   "id": "de0039a7",
   "metadata": {},
   "source": [
    "### Loading all data"
   ]
  },
  {
   "cell_type": "code",
   "execution_count": 3,
   "id": "77fe56b9",
   "metadata": {},
   "outputs": [],
   "source": [
    "df = pd.read_csv(\"../Resources/emissions_since1961_total_data.csv\")"
   ]
  },
  {
   "cell_type": "code",
   "execution_count": 4,
   "id": "8e4bf730",
   "metadata": {},
   "outputs": [
    {
     "data": {
      "text/html": [
       "<div>\n",
       "<style scoped>\n",
       "    .dataframe tbody tr th:only-of-type {\n",
       "        vertical-align: middle;\n",
       "    }\n",
       "\n",
       "    .dataframe tbody tr th {\n",
       "        vertical-align: top;\n",
       "    }\n",
       "\n",
       "    .dataframe thead th {\n",
       "        text-align: right;\n",
       "    }\n",
       "</style>\n",
       "<table border=\"1\" class=\"dataframe\">\n",
       "  <thead>\n",
       "    <tr style=\"text-align: right;\">\n",
       "      <th></th>\n",
       "      <th>country</th>\n",
       "      <th>country_code</th>\n",
       "      <th>year</th>\n",
       "      <th>total</th>\n",
       "      <th>coal</th>\n",
       "      <th>oil</th>\n",
       "      <th>gas</th>\n",
       "      <th>cement</th>\n",
       "      <th>flaring</th>\n",
       "      <th>other</th>\n",
       "      <th>population</th>\n",
       "      <th>per_capita</th>\n",
       "      <th>temp_change</th>\n",
       "    </tr>\n",
       "  </thead>\n",
       "  <tbody>\n",
       "    <tr>\n",
       "      <th>0</th>\n",
       "      <td>Australia</td>\n",
       "      <td>AUS</td>\n",
       "      <td>1961</td>\n",
       "      <td>90.503896</td>\n",
       "      <td>59.974780</td>\n",
       "      <td>29.115323</td>\n",
       "      <td>0.000000</td>\n",
       "      <td>1.413794</td>\n",
       "      <td>0.0</td>\n",
       "      <td>NaN</td>\n",
       "      <td>10483000</td>\n",
       "      <td>8.614547</td>\n",
       "      <td>0.151</td>\n",
       "    </tr>\n",
       "    <tr>\n",
       "      <th>1</th>\n",
       "      <td>Australia</td>\n",
       "      <td>AUS</td>\n",
       "      <td>1962</td>\n",
       "      <td>94.823455</td>\n",
       "      <td>61.485584</td>\n",
       "      <td>31.884128</td>\n",
       "      <td>0.003664</td>\n",
       "      <td>1.450079</td>\n",
       "      <td>0.0</td>\n",
       "      <td>NaN</td>\n",
       "      <td>10742000</td>\n",
       "      <td>8.852126</td>\n",
       "      <td>0.118</td>\n",
       "    </tr>\n",
       "    <tr>\n",
       "      <th>2</th>\n",
       "      <td>Australia</td>\n",
       "      <td>AUS</td>\n",
       "      <td>1963</td>\n",
       "      <td>100.934264</td>\n",
       "      <td>63.727952</td>\n",
       "      <td>35.658048</td>\n",
       "      <td>0.007328</td>\n",
       "      <td>1.540936</td>\n",
       "      <td>0.0</td>\n",
       "      <td>NaN</td>\n",
       "      <td>10950000</td>\n",
       "      <td>9.245287</td>\n",
       "      <td>-0.111</td>\n",
       "    </tr>\n",
       "    <tr>\n",
       "      <th>3</th>\n",
       "      <td>Australia</td>\n",
       "      <td>AUS</td>\n",
       "      <td>1964</td>\n",
       "      <td>108.875767</td>\n",
       "      <td>67.133213</td>\n",
       "      <td>39.943584</td>\n",
       "      <td>0.007328</td>\n",
       "      <td>1.791642</td>\n",
       "      <td>0.0</td>\n",
       "      <td>NaN</td>\n",
       "      <td>11167000</td>\n",
       "      <td>9.780775</td>\n",
       "      <td>-0.029</td>\n",
       "    </tr>\n",
       "    <tr>\n",
       "      <th>4</th>\n",
       "      <td>Australia</td>\n",
       "      <td>AUS</td>\n",
       "      <td>1965</td>\n",
       "      <td>120.852669</td>\n",
       "      <td>71.059616</td>\n",
       "      <td>47.906800</td>\n",
       "      <td>0.007328</td>\n",
       "      <td>1.878925</td>\n",
       "      <td>0.0</td>\n",
       "      <td>NaN</td>\n",
       "      <td>11388000</td>\n",
       "      <td>10.638962</td>\n",
       "      <td>0.121</td>\n",
       "    </tr>\n",
       "  </tbody>\n",
       "</table>\n",
       "</div>"
      ],
      "text/plain": [
       "     country country_code  year       total       coal        oil       gas  \\\n",
       "0  Australia          AUS  1961   90.503896  59.974780  29.115323  0.000000   \n",
       "1  Australia          AUS  1962   94.823455  61.485584  31.884128  0.003664   \n",
       "2  Australia          AUS  1963  100.934264  63.727952  35.658048  0.007328   \n",
       "3  Australia          AUS  1964  108.875767  67.133213  39.943584  0.007328   \n",
       "4  Australia          AUS  1965  120.852669  71.059616  47.906800  0.007328   \n",
       "\n",
       "     cement  flaring  other  population  per_capita  temp_change  \n",
       "0  1.413794      0.0    NaN    10483000    8.614547        0.151  \n",
       "1  1.450079      0.0    NaN    10742000    8.852126        0.118  \n",
       "2  1.540936      0.0    NaN    10950000    9.245287       -0.111  \n",
       "3  1.791642      0.0    NaN    11167000    9.780775       -0.029  \n",
       "4  1.878925      0.0    NaN    11388000   10.638962        0.121  "
      ]
     },
     "execution_count": 4,
     "metadata": {},
     "output_type": "execute_result"
    }
   ],
   "source": [
    "df.head()"
   ]
  },
  {
   "cell_type": "code",
   "execution_count": 5,
   "id": "c0896625",
   "metadata": {},
   "outputs": [
    {
     "data": {
      "text/plain": [
       "array(['Australia', 'Austria', 'Belarus', 'Belgium', 'Brazil', 'Bulgaria',\n",
       "       'Canada', 'China', 'Croatia', 'Cyprus', 'Czech Republic',\n",
       "       'Denmark', 'Estonia', 'Finland', 'France', 'Germany', 'Greece',\n",
       "       'Hungary', 'Iceland', 'Ireland', 'Italy', 'Japan', 'Kazakhstan',\n",
       "       'Latvia', 'Liechtenstein', 'Lithuania', 'Luxembourg', 'Malta',\n",
       "       'Netherlands', 'New Zealand', 'Norway', 'Poland', 'Portugal',\n",
       "       'South Korea', 'Romania', 'Russia', 'Slovakia', 'Slovenia',\n",
       "       'Spain', 'Sweden', 'Switzerland', 'Turkey', 'Ukraine',\n",
       "       'United Kingdom', 'USA', 'Global'], dtype=object)"
      ]
     },
     "execution_count": 5,
     "metadata": {},
     "output_type": "execute_result"
    }
   ],
   "source": [
    "df['country'].unique()"
   ]
  },
  {
   "cell_type": "code",
   "execution_count": 6,
   "id": "3a8faf99",
   "metadata": {},
   "outputs": [
    {
     "name": "stdout",
     "output_type": "stream",
     "text": [
      "<class 'pandas.core.frame.DataFrame'>\n",
      "RangeIndex: 2806 entries, 0 to 2805\n",
      "Data columns (total 13 columns):\n",
      " #   Column        Non-Null Count  Dtype  \n",
      "---  ------        --------------  -----  \n",
      " 0   country       2806 non-null   object \n",
      " 1   country_code  2806 non-null   object \n",
      " 2   year          2806 non-null   int64  \n",
      " 3   total         2806 non-null   float64\n",
      " 4   coal          2777 non-null   float64\n",
      " 5   oil           2777 non-null   float64\n",
      " 6   gas           2777 non-null   float64\n",
      " 7   cement        2776 non-null   float64\n",
      " 8   flaring       2777 non-null   float64\n",
      " 9   other         1530 non-null   float64\n",
      " 10  population    2806 non-null   int64  \n",
      " 11  per_capita    2806 non-null   float64\n",
      " 12  temp_change   2385 non-null   float64\n",
      "dtypes: float64(9), int64(2), object(2)\n",
      "memory usage: 285.1+ KB\n"
     ]
    }
   ],
   "source": [
    "df.info()"
   ]
  },
  {
   "cell_type": "markdown",
   "id": "4cadd944",
   "metadata": {},
   "source": [
    "### Notes\n",
    "\n",
    "- MISSING DATA\n",
    "    - country, country_code, year, total (emissions), population, and per_capita are not missing any values. \n",
    "    - coal, oil, gas, cement, flaring are missing like 30\n",
    "    - temp_change is missing 421\n",
    "    - other is missing almost half it's values. \n",
    "- Any data row where temp_change is null needs to be removed, we can't fill these\n",
    "- While it might be fine to fill in 0 for other emissions, if too many of the emissions data is missing we might need to drop those rows. \n",
    "\n",
    "- ENCODING\n",
    "    - county (or country_code) is going to need to be encoded in some way - either one hot or label based on something"
   ]
  },
  {
   "cell_type": "code",
   "execution_count": 7,
   "id": "72e27b52",
   "metadata": {},
   "outputs": [
    {
     "data": {
      "text/html": [
       "<div>\n",
       "<style scoped>\n",
       "    .dataframe tbody tr th:only-of-type {\n",
       "        vertical-align: middle;\n",
       "    }\n",
       "\n",
       "    .dataframe tbody tr th {\n",
       "        vertical-align: top;\n",
       "    }\n",
       "\n",
       "    .dataframe thead th {\n",
       "        text-align: right;\n",
       "    }\n",
       "</style>\n",
       "<table border=\"1\" class=\"dataframe\">\n",
       "  <thead>\n",
       "    <tr style=\"text-align: right;\">\n",
       "      <th></th>\n",
       "      <th>country</th>\n",
       "      <th>country_code</th>\n",
       "      <th>year</th>\n",
       "      <th>total</th>\n",
       "      <th>coal</th>\n",
       "      <th>oil</th>\n",
       "      <th>gas</th>\n",
       "      <th>cement</th>\n",
       "      <th>flaring</th>\n",
       "      <th>other</th>\n",
       "      <th>population</th>\n",
       "      <th>per_capita</th>\n",
       "      <th>temp_change</th>\n",
       "    </tr>\n",
       "  </thead>\n",
       "  <tbody>\n",
       "    <tr>\n",
       "      <th>122</th>\n",
       "      <td>Belarus</td>\n",
       "      <td>BLR</td>\n",
       "      <td>1961</td>\n",
       "      <td>41.498004</td>\n",
       "      <td>7.863711</td>\n",
       "      <td>30.619432</td>\n",
       "      <td>2.434120</td>\n",
       "      <td>0.580740</td>\n",
       "      <td>0.000000</td>\n",
       "      <td>NaN</td>\n",
       "      <td>8271216</td>\n",
       "      <td>4.884563</td>\n",
       "      <td>NaN</td>\n",
       "    </tr>\n",
       "    <tr>\n",
       "      <th>123</th>\n",
       "      <td>Belarus</td>\n",
       "      <td>BLR</td>\n",
       "      <td>1962</td>\n",
       "      <td>43.584426</td>\n",
       "      <td>7.449568</td>\n",
       "      <td>32.597018</td>\n",
       "      <td>2.882427</td>\n",
       "      <td>0.655413</td>\n",
       "      <td>0.000000</td>\n",
       "      <td>NaN</td>\n",
       "      <td>8351928</td>\n",
       "      <td>5.068040</td>\n",
       "      <td>NaN</td>\n",
       "    </tr>\n",
       "    <tr>\n",
       "      <th>124</th>\n",
       "      <td>Belarus</td>\n",
       "      <td>BLR</td>\n",
       "      <td>1963</td>\n",
       "      <td>46.757941</td>\n",
       "      <td>7.587424</td>\n",
       "      <td>35.008453</td>\n",
       "      <td>3.463519</td>\n",
       "      <td>0.698545</td>\n",
       "      <td>0.000000</td>\n",
       "      <td>NaN</td>\n",
       "      <td>8437232</td>\n",
       "      <td>5.377575</td>\n",
       "      <td>NaN</td>\n",
       "    </tr>\n",
       "    <tr>\n",
       "      <th>125</th>\n",
       "      <td>Belarus</td>\n",
       "      <td>BLR</td>\n",
       "      <td>1964</td>\n",
       "      <td>49.737801</td>\n",
       "      <td>7.732225</td>\n",
       "      <td>37.097759</td>\n",
       "      <td>4.163414</td>\n",
       "      <td>0.744403</td>\n",
       "      <td>0.000000</td>\n",
       "      <td>NaN</td>\n",
       "      <td>8524224</td>\n",
       "      <td>5.665063</td>\n",
       "      <td>NaN</td>\n",
       "    </tr>\n",
       "    <tr>\n",
       "      <th>126</th>\n",
       "      <td>Belarus</td>\n",
       "      <td>BLR</td>\n",
       "      <td>1965</td>\n",
       "      <td>52.769004</td>\n",
       "      <td>7.932787</td>\n",
       "      <td>39.227049</td>\n",
       "      <td>4.778188</td>\n",
       "      <td>0.830980</td>\n",
       "      <td>0.000000</td>\n",
       "      <td>NaN</td>\n",
       "      <td>8610000</td>\n",
       "      <td>5.959550</td>\n",
       "      <td>NaN</td>\n",
       "    </tr>\n",
       "    <tr>\n",
       "      <th>...</th>\n",
       "      <td>...</td>\n",
       "      <td>...</td>\n",
       "      <td>...</td>\n",
       "      <td>...</td>\n",
       "      <td>...</td>\n",
       "      <td>...</td>\n",
       "      <td>...</td>\n",
       "      <td>...</td>\n",
       "      <td>...</td>\n",
       "      <td>...</td>\n",
       "      <td>...</td>\n",
       "      <td>...</td>\n",
       "      <td>...</td>\n",
       "    </tr>\n",
       "    <tr>\n",
       "      <th>2588</th>\n",
       "      <td>Ukraine</td>\n",
       "      <td>UKR</td>\n",
       "      <td>1987</td>\n",
       "      <td>733.865729</td>\n",
       "      <td>364.423087</td>\n",
       "      <td>187.629070</td>\n",
       "      <td>168.817282</td>\n",
       "      <td>9.688782</td>\n",
       "      <td>3.307507</td>\n",
       "      <td>NaN</td>\n",
       "      <td>51293000</td>\n",
       "      <td>14.323123</td>\n",
       "      <td>NaN</td>\n",
       "    </tr>\n",
       "    <tr>\n",
       "      <th>2589</th>\n",
       "      <td>Ukraine</td>\n",
       "      <td>UKR</td>\n",
       "      <td>1988</td>\n",
       "      <td>727.308683</td>\n",
       "      <td>354.712812</td>\n",
       "      <td>174.383544</td>\n",
       "      <td>181.189537</td>\n",
       "      <td>9.748631</td>\n",
       "      <td>7.274160</td>\n",
       "      <td>NaN</td>\n",
       "      <td>51521000</td>\n",
       "      <td>14.157585</td>\n",
       "      <td>NaN</td>\n",
       "    </tr>\n",
       "    <tr>\n",
       "      <th>2590</th>\n",
       "      <td>Ukraine</td>\n",
       "      <td>UKR</td>\n",
       "      <td>1989</td>\n",
       "      <td>683.654316</td>\n",
       "      <td>322.270324</td>\n",
       "      <td>164.306646</td>\n",
       "      <td>180.258807</td>\n",
       "      <td>9.725281</td>\n",
       "      <td>7.093259</td>\n",
       "      <td>NaN</td>\n",
       "      <td>51773000</td>\n",
       "      <td>13.276248</td>\n",
       "      <td>NaN</td>\n",
       "    </tr>\n",
       "    <tr>\n",
       "      <th>2591</th>\n",
       "      <td>Ukraine</td>\n",
       "      <td>UKR</td>\n",
       "      <td>1990</td>\n",
       "      <td>705.830043</td>\n",
       "      <td>263.167837</td>\n",
       "      <td>205.686945</td>\n",
       "      <td>215.794074</td>\n",
       "      <td>9.400942</td>\n",
       "      <td>3.482547</td>\n",
       "      <td>8.297699</td>\n",
       "      <td>51891400</td>\n",
       "      <td>13.681577</td>\n",
       "      <td>NaN</td>\n",
       "    </tr>\n",
       "    <tr>\n",
       "      <th>2592</th>\n",
       "      <td>Ukraine</td>\n",
       "      <td>UKR</td>\n",
       "      <td>1991</td>\n",
       "      <td>632.536676</td>\n",
       "      <td>222.622055</td>\n",
       "      <td>167.044496</td>\n",
       "      <td>224.497146</td>\n",
       "      <td>8.918123</td>\n",
       "      <td>3.064950</td>\n",
       "      <td>6.389906</td>\n",
       "      <td>52000500</td>\n",
       "      <td>12.241188</td>\n",
       "      <td>NaN</td>\n",
       "    </tr>\n",
       "  </tbody>\n",
       "</table>\n",
       "<p>421 rows × 13 columns</p>\n",
       "</div>"
      ],
      "text/plain": [
       "      country country_code  year       total        coal         oil  \\\n",
       "122   Belarus          BLR  1961   41.498004    7.863711   30.619432   \n",
       "123   Belarus          BLR  1962   43.584426    7.449568   32.597018   \n",
       "124   Belarus          BLR  1963   46.757941    7.587424   35.008453   \n",
       "125   Belarus          BLR  1964   49.737801    7.732225   37.097759   \n",
       "126   Belarus          BLR  1965   52.769004    7.932787   39.227049   \n",
       "...       ...          ...   ...         ...         ...         ...   \n",
       "2588  Ukraine          UKR  1987  733.865729  364.423087  187.629070   \n",
       "2589  Ukraine          UKR  1988  727.308683  354.712812  174.383544   \n",
       "2590  Ukraine          UKR  1989  683.654316  322.270324  164.306646   \n",
       "2591  Ukraine          UKR  1990  705.830043  263.167837  205.686945   \n",
       "2592  Ukraine          UKR  1991  632.536676  222.622055  167.044496   \n",
       "\n",
       "             gas    cement   flaring     other  population  per_capita  \\\n",
       "122     2.434120  0.580740  0.000000       NaN     8271216    4.884563   \n",
       "123     2.882427  0.655413  0.000000       NaN     8351928    5.068040   \n",
       "124     3.463519  0.698545  0.000000       NaN     8437232    5.377575   \n",
       "125     4.163414  0.744403  0.000000       NaN     8524224    5.665063   \n",
       "126     4.778188  0.830980  0.000000       NaN     8610000    5.959550   \n",
       "...          ...       ...       ...       ...         ...         ...   \n",
       "2588  168.817282  9.688782  3.307507       NaN    51293000   14.323123   \n",
       "2589  181.189537  9.748631  7.274160       NaN    51521000   14.157585   \n",
       "2590  180.258807  9.725281  7.093259       NaN    51773000   13.276248   \n",
       "2591  215.794074  9.400942  3.482547  8.297699    51891400   13.681577   \n",
       "2592  224.497146  8.918123  3.064950  6.389906    52000500   12.241188   \n",
       "\n",
       "      temp_change  \n",
       "122           NaN  \n",
       "123           NaN  \n",
       "124           NaN  \n",
       "125           NaN  \n",
       "126           NaN  \n",
       "...           ...  \n",
       "2588          NaN  \n",
       "2589          NaN  \n",
       "2590          NaN  \n",
       "2591          NaN  \n",
       "2592          NaN  \n",
       "\n",
       "[421 rows x 13 columns]"
      ]
     },
     "execution_count": 7,
     "metadata": {},
     "output_type": "execute_result"
    }
   ],
   "source": [
    "df[df['temp_change'].isnull()]"
   ]
  },
  {
   "cell_type": "code",
   "execution_count": 8,
   "id": "0290aae2",
   "metadata": {},
   "outputs": [
    {
     "data": {
      "image/png": "[encoded data removed]",
      "text/plain": [
       "<Figure size 640x480 with 1 Axes>"
      ]
     },
     "metadata": {},
     "output_type": "display_data"
    }
   ],
   "source": [
    "USA = df[df['country'] == 'USA']\n",
    "\n",
    "plt.plot(USA['year'], USA['temp_change'])\n",
    "plt.title(\"USA Temperature Change per Year\")\n",
    "plt.xlabel(\"Year\")\n",
    "plt.ylabel(\"Temperature Change in Celsius\")\n",
    "plt.show()"
   ]
  },
  {
   "cell_type": "code",
   "execution_count": 9,
   "id": "92004589",
   "metadata": {},
   "outputs": [
    {
     "data": {
      "text/plain": [
       "array(['Belarus', 'Belgium', 'Croatia', 'Czech Republic', 'Estonia',\n",
       "       'Kazakhstan', 'Latvia', 'Lithuania', 'Luxembourg', 'Russia',\n",
       "       'Slovakia', 'Slovenia', 'Ukraine'], dtype=object)"
      ]
     },
     "execution_count": 9,
     "metadata": {},
     "output_type": "execute_result"
    }
   ],
   "source": [
    "df[df['temp_change'].isnull()][\"country\"].unique()"
   ]
  },
  {
   "cell_type": "code",
   "execution_count": 10,
   "id": "95d672ac",
   "metadata": {},
   "outputs": [
    {
     "data": {
      "text/plain": [
       "array(['Liechtenstein'], dtype=object)"
      ]
     },
     "execution_count": 10,
     "metadata": {},
     "output_type": "execute_result"
    }
   ],
   "source": [
    "df[df['coal'].isnull()][\"country\"].unique()"
   ]
  },
  {
   "cell_type": "code",
   "execution_count": 11,
   "id": "68b395dd",
   "metadata": {},
   "outputs": [
    {
     "data": {
      "text/plain": [
       "array(['Liechtenstein'], dtype=object)"
      ]
     },
     "execution_count": 11,
     "metadata": {},
     "output_type": "execute_result"
    }
   ],
   "source": [
    "df[df['oil'].isnull()][\"country\"].unique()"
   ]
  },
  {
   "cell_type": "code",
   "execution_count": 12,
   "id": "40d7100e",
   "metadata": {},
   "outputs": [
    {
     "data": {
      "text/plain": [
       "array(['Liechtenstein'], dtype=object)"
      ]
     },
     "execution_count": 12,
     "metadata": {},
     "output_type": "execute_result"
    }
   ],
   "source": [
    "df[df['gas'].isnull()][\"country\"].unique()"
   ]
  },
  {
   "cell_type": "code",
   "execution_count": 13,
   "id": "3b7aeb45",
   "metadata": {},
   "outputs": [
    {
     "data": {
      "text/plain": [
       "array(['Iceland', 'Liechtenstein'], dtype=object)"
      ]
     },
     "execution_count": 13,
     "metadata": {},
     "output_type": "execute_result"
    }
   ],
   "source": [
    "df[df['cement'].isnull()][\"country\"].unique()"
   ]
  },
  {
   "cell_type": "code",
   "execution_count": 14,
   "id": "c8133a88",
   "metadata": {},
   "outputs": [
    {
     "data": {
      "text/plain": [
       "array(['Liechtenstein'], dtype=object)"
      ]
     },
     "execution_count": 14,
     "metadata": {},
     "output_type": "execute_result"
    }
   ],
   "source": [
    "df[df['flaring'].isnull()][\"country\"].unique()"
   ]
  },
  {
   "cell_type": "code",
   "execution_count": 15,
   "id": "5a6778ab",
   "metadata": {},
   "outputs": [
    {
     "data": {
      "text/plain": [
       "array(['Australia', 'Austria', 'Belarus', 'Belgium', 'Brazil', 'Bulgaria',\n",
       "       'Canada', 'Croatia', 'Cyprus', 'Czech Republic', 'Denmark',\n",
       "       'Estonia', 'Finland', 'France', 'Germany', 'Greece', 'Hungary',\n",
       "       'Iceland', 'Ireland', 'Italy', 'Japan', 'Kazakhstan', 'Latvia',\n",
       "       'Liechtenstein', 'Lithuania', 'Luxembourg', 'Malta', 'Netherlands',\n",
       "       'New Zealand', 'Norway', 'Poland', 'Portugal', 'South Korea',\n",
       "       'Romania', 'Russia', 'Slovakia', 'Slovenia', 'Spain', 'Sweden',\n",
       "       'Switzerland', 'Turkey', 'Ukraine', 'United Kingdom', 'Global'],\n",
       "      dtype=object)"
      ]
     },
     "execution_count": 15,
     "metadata": {},
     "output_type": "execute_result"
    }
   ],
   "source": [
    "df[df['other'].isnull()][\"country\"].unique()"
   ]
  },
  {
   "cell_type": "code",
   "execution_count": 16,
   "id": "6561a11f",
   "metadata": {},
   "outputs": [
    {
     "data": {
      "text/plain": [
       "61"
      ]
     },
     "execution_count": 16,
     "metadata": {},
     "output_type": "execute_result"
    }
   ],
   "source": [
    "len(df[df['country'] == \"USA\"])"
   ]
  },
  {
   "cell_type": "code",
   "execution_count": 17,
   "id": "acd2c462",
   "metadata": {},
   "outputs": [
    {
     "name": "stdout",
     "output_type": "stream",
     "text": [
      "Belarus\n",
      "30\n",
      "--------------------\n",
      "Belgium\n",
      "22\n",
      "--------------------\n",
      "Croatia\n",
      "30\n",
      "--------------------\n",
      "Czech Republic\n",
      "29\n",
      "--------------------\n",
      "Estonia\n",
      "30\n",
      "--------------------\n",
      "Kazakhstan\n",
      "30\n",
      "--------------------\n",
      "Latvia\n",
      "30\n",
      "--------------------\n",
      "Lithuania\n",
      "30\n",
      "--------------------\n",
      "Luxembourg\n",
      "22\n",
      "--------------------\n",
      "Russia\n",
      "30\n",
      "--------------------\n",
      "Slovakia\n",
      "29\n",
      "--------------------\n",
      "Slovenia\n",
      "30\n",
      "--------------------\n",
      "Ukraine\n",
      "30\n",
      "--------------------\n"
     ]
    }
   ],
   "source": [
    "for country in df[df['temp_change'].isnull()][\"country\"].unique():\n",
    "    print(country)\n",
    "    print(61 - len(df[(df['country'] == country) & (df['temp_change'].isnull())]))\n",
    "    print(\"--------------------\")"
   ]
  },
  {
   "cell_type": "code",
   "execution_count": 18,
   "id": "1882b261",
   "metadata": {},
   "outputs": [],
   "source": [
    "df_temp_full = df[df['temp_change'].notnull()]"
   ]
  },
  {
   "cell_type": "code",
   "execution_count": 19,
   "id": "e2ef5891",
   "metadata": {},
   "outputs": [
    {
     "name": "stdout",
     "output_type": "stream",
     "text": [
      "<class 'pandas.core.frame.DataFrame'>\n",
      "Int64Index: 2385 entries, 0 to 2805\n",
      "Data columns (total 13 columns):\n",
      " #   Column        Non-Null Count  Dtype  \n",
      "---  ------        --------------  -----  \n",
      " 0   country       2385 non-null   object \n",
      " 1   country_code  2385 non-null   object \n",
      " 2   year          2385 non-null   int64  \n",
      " 3   total         2385 non-null   float64\n",
      " 4   coal          2356 non-null   float64\n",
      " 5   oil           2356 non-null   float64\n",
      " 6   gas           2356 non-null   float64\n",
      " 7   cement        2355 non-null   float64\n",
      " 8   flaring       2356 non-null   float64\n",
      " 9   other         1486 non-null   float64\n",
      " 10  population    2385 non-null   int64  \n",
      " 11  per_capita    2385 non-null   float64\n",
      " 12  temp_change   2385 non-null   float64\n",
      "dtypes: float64(9), int64(2), object(2)\n",
      "memory usage: 260.9+ KB\n"
     ]
    }
   ],
   "source": [
    "df_temp_full.info()"
   ]
  },
  {
   "cell_type": "code",
   "execution_count": 20,
   "id": "e7ceddd5",
   "metadata": {},
   "outputs": [],
   "source": [
    "df_full = df_temp_full[df_temp_full['cement'].notnull()]"
   ]
  },
  {
   "cell_type": "code",
   "execution_count": 21,
   "id": "53dc2a8e",
   "metadata": {},
   "outputs": [
    {
     "name": "stdout",
     "output_type": "stream",
     "text": [
      "<class 'pandas.core.frame.DataFrame'>\n",
      "Int64Index: 2355 entries, 0 to 2805\n",
      "Data columns (total 13 columns):\n",
      " #   Column        Non-Null Count  Dtype  \n",
      "---  ------        --------------  -----  \n",
      " 0   country       2355 non-null   object \n",
      " 1   country_code  2355 non-null   object \n",
      " 2   year          2355 non-null   int64  \n",
      " 3   total         2355 non-null   float64\n",
      " 4   coal          2355 non-null   float64\n",
      " 5   oil           2355 non-null   float64\n",
      " 6   gas           2355 non-null   float64\n",
      " 7   cement        2355 non-null   float64\n",
      " 8   flaring       2355 non-null   float64\n",
      " 9   other         1485 non-null   float64\n",
      " 10  population    2355 non-null   int64  \n",
      " 11  per_capita    2355 non-null   float64\n",
      " 12  temp_change   2355 non-null   float64\n",
      "dtypes: float64(9), int64(2), object(2)\n",
      "memory usage: 257.6+ KB\n"
     ]
    }
   ],
   "source": [
    "df_full.info()"
   ]
  },
  {
   "cell_type": "code",
   "execution_count": 22,
   "id": "8a4c0f0e",
   "metadata": {},
   "outputs": [],
   "source": [
    "df_filled = df_full.fillna(value=0)"
   ]
  },
  {
   "cell_type": "code",
   "execution_count": 23,
   "id": "4456f181",
   "metadata": {},
   "outputs": [
    {
     "data": {
      "text/html": [
       "<div>\n",
       "<style scoped>\n",
       "    .dataframe tbody tr th:only-of-type {\n",
       "        vertical-align: middle;\n",
       "    }\n",
       "\n",
       "    .dataframe tbody tr th {\n",
       "        vertical-align: top;\n",
       "    }\n",
       "\n",
       "    .dataframe thead th {\n",
       "        text-align: right;\n",
       "    }\n",
       "</style>\n",
       "<table border=\"1\" class=\"dataframe\">\n",
       "  <thead>\n",
       "    <tr style=\"text-align: right;\">\n",
       "      <th></th>\n",
       "      <th>country</th>\n",
       "      <th>country_code</th>\n",
       "      <th>year</th>\n",
       "      <th>total</th>\n",
       "      <th>coal</th>\n",
       "      <th>oil</th>\n",
       "      <th>gas</th>\n",
       "      <th>cement</th>\n",
       "      <th>flaring</th>\n",
       "      <th>other</th>\n",
       "      <th>population</th>\n",
       "      <th>per_capita</th>\n",
       "      <th>temp_change</th>\n",
       "    </tr>\n",
       "  </thead>\n",
       "  <tbody>\n",
       "    <tr>\n",
       "      <th>0</th>\n",
       "      <td>Australia</td>\n",
       "      <td>AUS</td>\n",
       "      <td>1961</td>\n",
       "      <td>90.503896</td>\n",
       "      <td>59.974780</td>\n",
       "      <td>29.115323</td>\n",
       "      <td>0.000000</td>\n",
       "      <td>1.413794</td>\n",
       "      <td>0.0</td>\n",
       "      <td>0.0</td>\n",
       "      <td>10483000</td>\n",
       "      <td>8.614547</td>\n",
       "      <td>0.151</td>\n",
       "    </tr>\n",
       "    <tr>\n",
       "      <th>1</th>\n",
       "      <td>Australia</td>\n",
       "      <td>AUS</td>\n",
       "      <td>1962</td>\n",
       "      <td>94.823455</td>\n",
       "      <td>61.485584</td>\n",
       "      <td>31.884128</td>\n",
       "      <td>0.003664</td>\n",
       "      <td>1.450079</td>\n",
       "      <td>0.0</td>\n",
       "      <td>0.0</td>\n",
       "      <td>10742000</td>\n",
       "      <td>8.852126</td>\n",
       "      <td>0.118</td>\n",
       "    </tr>\n",
       "    <tr>\n",
       "      <th>2</th>\n",
       "      <td>Australia</td>\n",
       "      <td>AUS</td>\n",
       "      <td>1963</td>\n",
       "      <td>100.934264</td>\n",
       "      <td>63.727952</td>\n",
       "      <td>35.658048</td>\n",
       "      <td>0.007328</td>\n",
       "      <td>1.540936</td>\n",
       "      <td>0.0</td>\n",
       "      <td>0.0</td>\n",
       "      <td>10950000</td>\n",
       "      <td>9.245287</td>\n",
       "      <td>-0.111</td>\n",
       "    </tr>\n",
       "    <tr>\n",
       "      <th>3</th>\n",
       "      <td>Australia</td>\n",
       "      <td>AUS</td>\n",
       "      <td>1964</td>\n",
       "      <td>108.875767</td>\n",
       "      <td>67.133213</td>\n",
       "      <td>39.943584</td>\n",
       "      <td>0.007328</td>\n",
       "      <td>1.791642</td>\n",
       "      <td>0.0</td>\n",
       "      <td>0.0</td>\n",
       "      <td>11167000</td>\n",
       "      <td>9.780775</td>\n",
       "      <td>-0.029</td>\n",
       "    </tr>\n",
       "    <tr>\n",
       "      <th>4</th>\n",
       "      <td>Australia</td>\n",
       "      <td>AUS</td>\n",
       "      <td>1965</td>\n",
       "      <td>120.852669</td>\n",
       "      <td>71.059616</td>\n",
       "      <td>47.906800</td>\n",
       "      <td>0.007328</td>\n",
       "      <td>1.878925</td>\n",
       "      <td>0.0</td>\n",
       "      <td>0.0</td>\n",
       "      <td>11388000</td>\n",
       "      <td>10.638962</td>\n",
       "      <td>0.121</td>\n",
       "    </tr>\n",
       "  </tbody>\n",
       "</table>\n",
       "</div>"
      ],
      "text/plain": [
       "     country country_code  year       total       coal        oil       gas  \\\n",
       "0  Australia          AUS  1961   90.503896  59.974780  29.115323  0.000000   \n",
       "1  Australia          AUS  1962   94.823455  61.485584  31.884128  0.003664   \n",
       "2  Australia          AUS  1963  100.934264  63.727952  35.658048  0.007328   \n",
       "3  Australia          AUS  1964  108.875767  67.133213  39.943584  0.007328   \n",
       "4  Australia          AUS  1965  120.852669  71.059616  47.906800  0.007328   \n",
       "\n",
       "     cement  flaring  other  population  per_capita  temp_change  \n",
       "0  1.413794      0.0    0.0    10483000    8.614547        0.151  \n",
       "1  1.450079      0.0    0.0    10742000    8.852126        0.118  \n",
       "2  1.540936      0.0    0.0    10950000    9.245287       -0.111  \n",
       "3  1.791642      0.0    0.0    11167000    9.780775       -0.029  \n",
       "4  1.878925      0.0    0.0    11388000   10.638962        0.121  "
      ]
     },
     "execution_count": 23,
     "metadata": {},
     "output_type": "execute_result"
    }
   ],
   "source": [
    "df_filled.head()"
   ]
  },
  {
   "cell_type": "code",
   "execution_count": 24,
   "id": "d5f34d4a",
   "metadata": {},
   "outputs": [],
   "source": [
    "country_encoding = {}\n",
    "num = 1\n",
    "for country in df_filled[df_filled['year'] == 2020].sort_values(by='total')['country']:\n",
    "    country_encoding[country] = num\n",
    "    num += 1"
   ]
  },
  {
   "cell_type": "code",
   "execution_count": 25,
   "id": "d7301ee0",
   "metadata": {},
   "outputs": [
    {
     "data": {
      "text/plain": [
       "{'Liechtenstein': 1,\n",
       " 'Malta': 2,\n",
       " 'Iceland': 3,\n",
       " 'Latvia': 4,\n",
       " 'Cyprus': 5,\n",
       " 'Luxembourg': 6,\n",
       " 'Estonia': 7,\n",
       " 'Slovenia': 8,\n",
       " 'Lithuania': 9,\n",
       " 'Croatia': 10,\n",
       " 'Denmark': 11,\n",
       " 'Slovakia': 12,\n",
       " 'Switzerland': 13,\n",
       " 'New Zealand': 14,\n",
       " 'Ireland': 15,\n",
       " 'Sweden': 16,\n",
       " 'Bulgaria': 17,\n",
       " 'Finland': 18,\n",
       " 'Norway': 19,\n",
       " 'Portugal': 20,\n",
       " 'Hungary': 21,\n",
       " 'Greece': 22,\n",
       " 'Belarus': 23,\n",
       " 'Austria': 24,\n",
       " 'Romania': 25,\n",
       " 'Belgium': 26,\n",
       " 'Czech Republic': 27,\n",
       " 'Netherlands': 28,\n",
       " 'Ukraine': 29,\n",
       " 'Spain': 30,\n",
       " 'Kazakhstan': 31,\n",
       " 'France': 32,\n",
       " 'Italy': 33,\n",
       " 'Poland': 34,\n",
       " 'United Kingdom': 35,\n",
       " 'Australia': 36,\n",
       " 'Turkey': 37,\n",
       " 'Brazil': 38,\n",
       " 'Canada': 39,\n",
       " 'South Korea': 40,\n",
       " 'Germany': 41,\n",
       " 'Japan': 42,\n",
       " 'Russia': 43,\n",
       " 'USA': 44,\n",
       " 'China': 45,\n",
       " 'Global': 46}"
      ]
     },
     "execution_count": 25,
     "metadata": {},
     "output_type": "execute_result"
    }
   ],
   "source": [
    "country_encoding"
   ]
  },
  {
   "cell_type": "code",
   "execution_count": 26,
   "id": "6641d5d8",
   "metadata": {},
   "outputs": [],
   "source": [
    "df_filled['country_num'] = df_filled['country'].apply(lambda x: country_encoding[x])"
   ]
  },
  {
   "cell_type": "code",
   "execution_count": 27,
   "id": "179f9d80",
   "metadata": {},
   "outputs": [
    {
     "data": {
      "text/html": [
       "<div>\n",
       "<style scoped>\n",
       "    .dataframe tbody tr th:only-of-type {\n",
       "        vertical-align: middle;\n",
       "    }\n",
       "\n",
       "    .dataframe tbody tr th {\n",
       "        vertical-align: top;\n",
       "    }\n",
       "\n",
       "    .dataframe thead th {\n",
       "        text-align: right;\n",
       "    }\n",
       "</style>\n",
       "<table border=\"1\" class=\"dataframe\">\n",
       "  <thead>\n",
       "    <tr style=\"text-align: right;\">\n",
       "      <th></th>\n",
       "      <th>country</th>\n",
       "      <th>country_code</th>\n",
       "      <th>year</th>\n",
       "      <th>total</th>\n",
       "      <th>coal</th>\n",
       "      <th>oil</th>\n",
       "      <th>gas</th>\n",
       "      <th>cement</th>\n",
       "      <th>flaring</th>\n",
       "      <th>other</th>\n",
       "      <th>population</th>\n",
       "      <th>per_capita</th>\n",
       "      <th>temp_change</th>\n",
       "      <th>country_num</th>\n",
       "    </tr>\n",
       "  </thead>\n",
       "  <tbody>\n",
       "    <tr>\n",
       "      <th>0</th>\n",
       "      <td>Australia</td>\n",
       "      <td>AUS</td>\n",
       "      <td>1961</td>\n",
       "      <td>90.503896</td>\n",
       "      <td>59.974780</td>\n",
       "      <td>29.115323</td>\n",
       "      <td>0.000000</td>\n",
       "      <td>1.413794</td>\n",
       "      <td>0.0</td>\n",
       "      <td>0.0</td>\n",
       "      <td>10483000</td>\n",
       "      <td>8.614547</td>\n",
       "      <td>0.151</td>\n",
       "      <td>36</td>\n",
       "    </tr>\n",
       "    <tr>\n",
       "      <th>1</th>\n",
       "      <td>Australia</td>\n",
       "      <td>AUS</td>\n",
       "      <td>1962</td>\n",
       "      <td>94.823455</td>\n",
       "      <td>61.485584</td>\n",
       "      <td>31.884128</td>\n",
       "      <td>0.003664</td>\n",
       "      <td>1.450079</td>\n",
       "      <td>0.0</td>\n",
       "      <td>0.0</td>\n",
       "      <td>10742000</td>\n",
       "      <td>8.852126</td>\n",
       "      <td>0.118</td>\n",
       "      <td>36</td>\n",
       "    </tr>\n",
       "    <tr>\n",
       "      <th>2</th>\n",
       "      <td>Australia</td>\n",
       "      <td>AUS</td>\n",
       "      <td>1963</td>\n",
       "      <td>100.934264</td>\n",
       "      <td>63.727952</td>\n",
       "      <td>35.658048</td>\n",
       "      <td>0.007328</td>\n",
       "      <td>1.540936</td>\n",
       "      <td>0.0</td>\n",
       "      <td>0.0</td>\n",
       "      <td>10950000</td>\n",
       "      <td>9.245287</td>\n",
       "      <td>-0.111</td>\n",
       "      <td>36</td>\n",
       "    </tr>\n",
       "    <tr>\n",
       "      <th>3</th>\n",
       "      <td>Australia</td>\n",
       "      <td>AUS</td>\n",
       "      <td>1964</td>\n",
       "      <td>108.875767</td>\n",
       "      <td>67.133213</td>\n",
       "      <td>39.943584</td>\n",
       "      <td>0.007328</td>\n",
       "      <td>1.791642</td>\n",
       "      <td>0.0</td>\n",
       "      <td>0.0</td>\n",
       "      <td>11167000</td>\n",
       "      <td>9.780775</td>\n",
       "      <td>-0.029</td>\n",
       "      <td>36</td>\n",
       "    </tr>\n",
       "    <tr>\n",
       "      <th>4</th>\n",
       "      <td>Australia</td>\n",
       "      <td>AUS</td>\n",
       "      <td>1965</td>\n",
       "      <td>120.852669</td>\n",
       "      <td>71.059616</td>\n",
       "      <td>47.906800</td>\n",
       "      <td>0.007328</td>\n",
       "      <td>1.878925</td>\n",
       "      <td>0.0</td>\n",
       "      <td>0.0</td>\n",
       "      <td>11388000</td>\n",
       "      <td>10.638962</td>\n",
       "      <td>0.121</td>\n",
       "      <td>36</td>\n",
       "    </tr>\n",
       "  </tbody>\n",
       "</table>\n",
       "</div>"
      ],
      "text/plain": [
       "     country country_code  year       total       coal        oil       gas  \\\n",
       "0  Australia          AUS  1961   90.503896  59.974780  29.115323  0.000000   \n",
       "1  Australia          AUS  1962   94.823455  61.485584  31.884128  0.003664   \n",
       "2  Australia          AUS  1963  100.934264  63.727952  35.658048  0.007328   \n",
       "3  Australia          AUS  1964  108.875767  67.133213  39.943584  0.007328   \n",
       "4  Australia          AUS  1965  120.852669  71.059616  47.906800  0.007328   \n",
       "\n",
       "     cement  flaring  other  population  per_capita  temp_change  country_num  \n",
       "0  1.413794      0.0    0.0    10483000    8.614547        0.151           36  \n",
       "1  1.450079      0.0    0.0    10742000    8.852126        0.118           36  \n",
       "2  1.540936      0.0    0.0    10950000    9.245287       -0.111           36  \n",
       "3  1.791642      0.0    0.0    11167000    9.780775       -0.029           36  \n",
       "4  1.878925      0.0    0.0    11388000   10.638962        0.121           36  "
      ]
     },
     "execution_count": 27,
     "metadata": {},
     "output_type": "execute_result"
    }
   ],
   "source": [
    "df_filled.head()"
   ]
  },
  {
   "cell_type": "code",
   "execution_count": 28,
   "id": "a8af6e81",
   "metadata": {},
   "outputs": [],
   "source": [
    "df_final = df_filled[['country_num', 'year', 'total', 'coal', 'oil', \n",
    "                      'gas', 'cement', 'flaring', 'other', 'population', \n",
    "                      'per_capita', 'temp_change']]"
   ]
  },
  {
   "cell_type": "code",
   "execution_count": 29,
   "id": "6b062cdf",
   "metadata": {},
   "outputs": [
    {
     "data": {
      "text/html": [
       "<div>\n",
       "<style scoped>\n",
       "    .dataframe tbody tr th:only-of-type {\n",
       "        vertical-align: middle;\n",
       "    }\n",
       "\n",
       "    .dataframe tbody tr th {\n",
       "        vertical-align: top;\n",
       "    }\n",
       "\n",
       "    .dataframe thead th {\n",
       "        text-align: right;\n",
       "    }\n",
       "</style>\n",
       "<table border=\"1\" class=\"dataframe\">\n",
       "  <thead>\n",
       "    <tr style=\"text-align: right;\">\n",
       "      <th></th>\n",
       "      <th>country_num</th>\n",
       "      <th>year</th>\n",
       "      <th>total</th>\n",
       "      <th>coal</th>\n",
       "      <th>oil</th>\n",
       "      <th>gas</th>\n",
       "      <th>cement</th>\n",
       "      <th>flaring</th>\n",
       "      <th>other</th>\n",
       "      <th>population</th>\n",
       "      <th>per_capita</th>\n",
       "      <th>temp_change</th>\n",
       "    </tr>\n",
       "  </thead>\n",
       "  <tbody>\n",
       "    <tr>\n",
       "      <th>0</th>\n",
       "      <td>36</td>\n",
       "      <td>1961</td>\n",
       "      <td>90.503896</td>\n",
       "      <td>59.974780</td>\n",
       "      <td>29.115323</td>\n",
       "      <td>0.000000</td>\n",
       "      <td>1.413794</td>\n",
       "      <td>0.0</td>\n",
       "      <td>0.0</td>\n",
       "      <td>10483000</td>\n",
       "      <td>8.614547</td>\n",
       "      <td>0.151</td>\n",
       "    </tr>\n",
       "    <tr>\n",
       "      <th>1</th>\n",
       "      <td>36</td>\n",
       "      <td>1962</td>\n",
       "      <td>94.823455</td>\n",
       "      <td>61.485584</td>\n",
       "      <td>31.884128</td>\n",
       "      <td>0.003664</td>\n",
       "      <td>1.450079</td>\n",
       "      <td>0.0</td>\n",
       "      <td>0.0</td>\n",
       "      <td>10742000</td>\n",
       "      <td>8.852126</td>\n",
       "      <td>0.118</td>\n",
       "    </tr>\n",
       "    <tr>\n",
       "      <th>2</th>\n",
       "      <td>36</td>\n",
       "      <td>1963</td>\n",
       "      <td>100.934264</td>\n",
       "      <td>63.727952</td>\n",
       "      <td>35.658048</td>\n",
       "      <td>0.007328</td>\n",
       "      <td>1.540936</td>\n",
       "      <td>0.0</td>\n",
       "      <td>0.0</td>\n",
       "      <td>10950000</td>\n",
       "      <td>9.245287</td>\n",
       "      <td>-0.111</td>\n",
       "    </tr>\n",
       "    <tr>\n",
       "      <th>3</th>\n",
       "      <td>36</td>\n",
       "      <td>1964</td>\n",
       "      <td>108.875767</td>\n",
       "      <td>67.133213</td>\n",
       "      <td>39.943584</td>\n",
       "      <td>0.007328</td>\n",
       "      <td>1.791642</td>\n",
       "      <td>0.0</td>\n",
       "      <td>0.0</td>\n",
       "      <td>11167000</td>\n",
       "      <td>9.780775</td>\n",
       "      <td>-0.029</td>\n",
       "    </tr>\n",
       "    <tr>\n",
       "      <th>4</th>\n",
       "      <td>36</td>\n",
       "      <td>1965</td>\n",
       "      <td>120.852669</td>\n",
       "      <td>71.059616</td>\n",
       "      <td>47.906800</td>\n",
       "      <td>0.007328</td>\n",
       "      <td>1.878925</td>\n",
       "      <td>0.0</td>\n",
       "      <td>0.0</td>\n",
       "      <td>11388000</td>\n",
       "      <td>10.638962</td>\n",
       "      <td>0.121</td>\n",
       "    </tr>\n",
       "  </tbody>\n",
       "</table>\n",
       "</div>"
      ],
      "text/plain": [
       "   country_num  year       total       coal        oil       gas    cement  \\\n",
       "0           36  1961   90.503896  59.974780  29.115323  0.000000  1.413794   \n",
       "1           36  1962   94.823455  61.485584  31.884128  0.003664  1.450079   \n",
       "2           36  1963  100.934264  63.727952  35.658048  0.007328  1.540936   \n",
       "3           36  1964  108.875767  67.133213  39.943584  0.007328  1.791642   \n",
       "4           36  1965  120.852669  71.059616  47.906800  0.007328  1.878925   \n",
       "\n",
       "   flaring  other  population  per_capita  temp_change  \n",
       "0      0.0    0.0    10483000    8.614547        0.151  \n",
       "1      0.0    0.0    10742000    8.852126        0.118  \n",
       "2      0.0    0.0    10950000    9.245287       -0.111  \n",
       "3      0.0    0.0    11167000    9.780775       -0.029  \n",
       "4      0.0    0.0    11388000   10.638962        0.121  "
      ]
     },
     "execution_count": 29,
     "metadata": {},
     "output_type": "execute_result"
    }
   ],
   "source": [
    "df_final.head()"
   ]
  },
  {
   "cell_type": "code",
   "execution_count": 30,
   "id": "2a74824a",
   "metadata": {},
   "outputs": [
    {
     "data": {
      "text/plain": [
       "0.706460297239916"
      ]
     },
     "execution_count": 30,
     "metadata": {},
     "output_type": "execute_result"
    }
   ],
   "source": [
    "df_final['temp_change'].mean()"
   ]
  },
  {
   "cell_type": "code",
   "execution_count": 31,
   "id": "796e18fc",
   "metadata": {},
   "outputs": [],
   "source": [
    "X_train = df_final[df_final['year'] < 2012].drop(columns='temp_change')\n",
    "X_test = df_final[df_final['year'] >= 2012].drop(columns='temp_change')\n",
    "y_train = df_final[df_final['year'] < 2012]['temp_change']\n",
    "y_test = df_final[df_final['year'] >= 2012]['temp_change']"
   ]
  },
  {
   "cell_type": "markdown",
   "id": "52167423",
   "metadata": {},
   "source": [
    "### Supervised Machine Learning - Regression"
   ]
  },
  {
   "cell_type": "code",
   "execution_count": 32,
   "id": "80e37c03",
   "metadata": {},
   "outputs": [],
   "source": [
    "from sklearn.preprocessing import StandardScaler\n",
    "from sklearn.linear_model import LinearRegression\n",
    "from sklearn.ensemble import RandomForestRegressor\n",
    "from sklearn.metrics import mean_squared_error\n",
    "from math import sqrt"
   ]
  },
  {
   "cell_type": "code",
   "execution_count": 33,
   "id": "82c8b7d6",
   "metadata": {},
   "outputs": [],
   "source": [
    "scaler = StandardScaler()\n",
    "X_scaler = scaler.fit(X_train)\n",
    "\n",
    "X_train_scaled = X_scaler.transform(X_train)\n",
    "X_test_scaled = X_scaler.transform(X_test)"
   ]
  },
  {
   "cell_type": "code",
   "execution_count": 34,
   "id": "56d19e20",
   "metadata": {},
   "outputs": [],
   "source": [
    "linear = LinearRegression()"
   ]
  },
  {
   "cell_type": "code",
   "execution_count": 35,
   "id": "3b52bc94",
   "metadata": {},
   "outputs": [
    {
     "data": {
      "text/plain": [
       "LinearRegression()"
      ]
     },
     "execution_count": 35,
     "metadata": {},
     "output_type": "execute_result"
    }
   ],
   "source": [
    "linear.fit(X_train_scaled, y_train)"
   ]
  },
  {
   "cell_type": "code",
   "execution_count": 36,
   "id": "54d82f2b",
   "metadata": {},
   "outputs": [],
   "source": [
    "y_pred = linear.predict(X_test_scaled)"
   ]
  },
  {
   "cell_type": "code",
   "execution_count": 37,
   "id": "72e332c6",
   "metadata": {},
   "outputs": [
    {
     "data": {
      "text/plain": [
       "(459,)"
      ]
     },
     "execution_count": 37,
     "metadata": {},
     "output_type": "execute_result"
    }
   ],
   "source": [
    "y_pred.shape"
   ]
  },
  {
   "cell_type": "code",
   "execution_count": 38,
   "id": "88c61805",
   "metadata": {},
   "outputs": [
    {
     "data": {
      "text/plain": [
       "(459,)"
      ]
     },
     "execution_count": 38,
     "metadata": {},
     "output_type": "execute_result"
    }
   ],
   "source": [
    "y_test.shape"
   ]
  },
  {
   "cell_type": "code",
   "execution_count": 39,
   "id": "8e6399cf",
   "metadata": {},
   "outputs": [
    {
     "data": {
      "text/plain": [
       "0.6411190355880118"
      ]
     },
     "execution_count": 39,
     "metadata": {},
     "output_type": "execute_result"
    }
   ],
   "source": [
    "sqrt(mean_squared_error(y_test, y_pred))"
   ]
  },
  {
   "cell_type": "code",
   "execution_count": 40,
   "id": "ce7d4bdf",
   "metadata": {},
   "outputs": [],
   "source": [
    "tree = RandomForestRegressor()"
   ]
  },
  {
   "cell_type": "code",
   "execution_count": 41,
   "id": "f6118440",
   "metadata": {},
   "outputs": [],
   "source": [
    "tree.fit(X_train_scaled, y_train)\n",
    "y_tree_pred = tree.predict(X_test_scaled)"
   ]
  },
  {
   "cell_type": "code",
   "execution_count": 42,
   "id": "087586ce",
   "metadata": {},
   "outputs": [
    {
     "data": {
      "text/plain": [
       "0.8330061914071575"
      ]
     },
     "execution_count": 42,
     "metadata": {},
     "output_type": "execute_result"
    }
   ],
   "source": [
    "sqrt(mean_squared_error(y_test, y_tree_pred))"
   ]
  },
  {
   "cell_type": "code",
   "execution_count": null,
   "id": "c6ceb89e",
   "metadata": {},
   "outputs": [],
   "source": []
  }
 ],
 "metadata": {
  "kernelspec": {
   "display_name": "mlenv",
   "language": "python",
   "name": "mlenv"
  },
  "language_info": {
   "codemirror_mode": {
    "name": "ipython",
    "version": 3
   },
   "file_extension": ".py",
   "mimetype": "text/x-python",
   "name": "python",
   "nbconvert_exporter": "python",
   "pygments_lexer": "ipython3",
   "version": "3.7.15"
  }
 },
 "nbformat": 4,
 "nbformat_minor": 5
}
