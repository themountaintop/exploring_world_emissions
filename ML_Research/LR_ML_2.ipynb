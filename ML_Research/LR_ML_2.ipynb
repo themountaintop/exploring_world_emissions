{
 "cells": [
  {
   "cell_type": "markdown",
   "id": "2c6073a7",
   "metadata": {},
   "source": [
    "## Initial Dependency Imports"
   ]
  },
  {
   "cell_type": "code",
   "execution_count": 1,
   "id": "48f89eda",
   "metadata": {},
   "outputs": [],
   "source": [
    "import pandas as pd\n",
    "import numpy as np\n",
    "import matplotlib.pyplot as plt\n",
    "from sklearn.linear_model import LinearRegression\n",
    "from sklearn.ensemble import RandomForestRegressor\n",
    "from sklearn.preprocessing import StandardScaler\n",
    "from sklearn.metrics import mean_squared_error \n",
    "from sklearn.metrics import r2_score"
   ]
  },
  {
   "cell_type": "code",
   "execution_count": 2,
   "id": "41ccda4c",
   "metadata": {},
   "outputs": [
    {
     "data": {
      "text/html": [
       "<div>\n",
       "<style scoped>\n",
       "    .dataframe tbody tr th:only-of-type {\n",
       "        vertical-align: middle;\n",
       "    }\n",
       "\n",
       "    .dataframe tbody tr th {\n",
       "        vertical-align: top;\n",
       "    }\n",
       "\n",
       "    .dataframe thead th {\n",
       "        text-align: right;\n",
       "    }\n",
       "</style>\n",
       "<table border=\"1\" class=\"dataframe\">\n",
       "  <thead>\n",
       "    <tr style=\"text-align: right;\">\n",
       "      <th></th>\n",
       "      <th>country</th>\n",
       "      <th>country_code</th>\n",
       "      <th>year</th>\n",
       "      <th>total</th>\n",
       "      <th>coal</th>\n",
       "      <th>oil</th>\n",
       "      <th>gas</th>\n",
       "      <th>cement</th>\n",
       "      <th>flaring</th>\n",
       "      <th>other</th>\n",
       "      <th>population</th>\n",
       "      <th>per_capita</th>\n",
       "      <th>temp_change</th>\n",
       "    </tr>\n",
       "  </thead>\n",
       "  <tbody>\n",
       "    <tr>\n",
       "      <th>0</th>\n",
       "      <td>Australia</td>\n",
       "      <td>AUS</td>\n",
       "      <td>1961</td>\n",
       "      <td>90.503896</td>\n",
       "      <td>59.974780</td>\n",
       "      <td>29.115323</td>\n",
       "      <td>0.000000</td>\n",
       "      <td>1.413794</td>\n",
       "      <td>0.0</td>\n",
       "      <td>NaN</td>\n",
       "      <td>10483000</td>\n",
       "      <td>8.614547</td>\n",
       "      <td>0.151</td>\n",
       "    </tr>\n",
       "    <tr>\n",
       "      <th>1</th>\n",
       "      <td>Australia</td>\n",
       "      <td>AUS</td>\n",
       "      <td>1962</td>\n",
       "      <td>94.823455</td>\n",
       "      <td>61.485584</td>\n",
       "      <td>31.884128</td>\n",
       "      <td>0.003664</td>\n",
       "      <td>1.450079</td>\n",
       "      <td>0.0</td>\n",
       "      <td>NaN</td>\n",
       "      <td>10742000</td>\n",
       "      <td>8.852126</td>\n",
       "      <td>0.118</td>\n",
       "    </tr>\n",
       "    <tr>\n",
       "      <th>2</th>\n",
       "      <td>Australia</td>\n",
       "      <td>AUS</td>\n",
       "      <td>1963</td>\n",
       "      <td>100.934264</td>\n",
       "      <td>63.727952</td>\n",
       "      <td>35.658048</td>\n",
       "      <td>0.007328</td>\n",
       "      <td>1.540936</td>\n",
       "      <td>0.0</td>\n",
       "      <td>NaN</td>\n",
       "      <td>10950000</td>\n",
       "      <td>9.245287</td>\n",
       "      <td>-0.111</td>\n",
       "    </tr>\n",
       "    <tr>\n",
       "      <th>3</th>\n",
       "      <td>Australia</td>\n",
       "      <td>AUS</td>\n",
       "      <td>1964</td>\n",
       "      <td>108.875767</td>\n",
       "      <td>67.133213</td>\n",
       "      <td>39.943584</td>\n",
       "      <td>0.007328</td>\n",
       "      <td>1.791642</td>\n",
       "      <td>0.0</td>\n",
       "      <td>NaN</td>\n",
       "      <td>11167000</td>\n",
       "      <td>9.780775</td>\n",
       "      <td>-0.029</td>\n",
       "    </tr>\n",
       "    <tr>\n",
       "      <th>4</th>\n",
       "      <td>Australia</td>\n",
       "      <td>AUS</td>\n",
       "      <td>1965</td>\n",
       "      <td>120.852669</td>\n",
       "      <td>71.059616</td>\n",
       "      <td>47.906800</td>\n",
       "      <td>0.007328</td>\n",
       "      <td>1.878925</td>\n",
       "      <td>0.0</td>\n",
       "      <td>NaN</td>\n",
       "      <td>11388000</td>\n",
       "      <td>10.638962</td>\n",
       "      <td>0.121</td>\n",
       "    </tr>\n",
       "  </tbody>\n",
       "</table>\n",
       "</div>"
      ],
      "text/plain": [
       "     country country_code  year       total       coal        oil       gas  \\\n",
       "0  Australia          AUS  1961   90.503896  59.974780  29.115323  0.000000   \n",
       "1  Australia          AUS  1962   94.823455  61.485584  31.884128  0.003664   \n",
       "2  Australia          AUS  1963  100.934264  63.727952  35.658048  0.007328   \n",
       "3  Australia          AUS  1964  108.875767  67.133213  39.943584  0.007328   \n",
       "4  Australia          AUS  1965  120.852669  71.059616  47.906800  0.007328   \n",
       "\n",
       "     cement  flaring  other  population  per_capita  temp_change  \n",
       "0  1.413794      0.0    NaN    10483000    8.614547        0.151  \n",
       "1  1.450079      0.0    NaN    10742000    8.852126        0.118  \n",
       "2  1.540936      0.0    NaN    10950000    9.245287       -0.111  \n",
       "3  1.791642      0.0    NaN    11167000    9.780775       -0.029  \n",
       "4  1.878925      0.0    NaN    11388000   10.638962        0.121  "
      ]
     },
     "execution_count": 2,
     "metadata": {},
     "output_type": "execute_result"
    }
   ],
   "source": [
    "# Import data:\n",
    "df = pd.read_csv(\"../../Resources/emissions_since1961_total_data.csv\")\n",
    "df.head()"
   ]
  },
  {
   "cell_type": "code",
   "execution_count": 3,
   "id": "f551cb4b",
   "metadata": {
    "scrolled": false
   },
   "outputs": [
    {
     "data": {
      "image/png": "[encoded data removed]",
      "text/plain": [
       "<Figure size 640x480 with 1 Axes>"
      ]
     },
     "metadata": {},
     "output_type": "display_data"
    }
   ],
   "source": [
    "# Plotting USA year and temp_change values to visualize some of the data:\n",
    "USA = df[df['country']=='USA']\n",
    "plt.plot(USA['year'], USA['temp_change'])\n",
    "plt.show()"
   ]
  },
  {
   "cell_type": "markdown",
   "id": "ae86ed37",
   "metadata": {},
   "source": [
    "## Data Set Exploration and Transforming:"
   ]
  },
  {
   "cell_type": "code",
   "execution_count": 4,
   "id": "6cbf3713",
   "metadata": {},
   "outputs": [
    {
     "name": "stdout",
     "output_type": "stream",
     "text": [
      " There are 46 countries:\n",
      "['Australia' 'Austria' 'Belarus' 'Belgium' 'Brazil' 'Bulgaria' 'Canada'\n",
      " 'China' 'Croatia' 'Cyprus' 'Czech Republic' 'Denmark' 'Estonia' 'Finland'\n",
      " 'France' 'Germany' 'Greece' 'Hungary' 'Iceland' 'Ireland' 'Italy' 'Japan'\n",
      " 'Kazakhstan' 'Latvia' 'Liechtenstein' 'Lithuania' 'Luxembourg' 'Malta'\n",
      " 'Netherlands' 'New Zealand' 'Norway' 'Poland' 'Portugal' 'South Korea'\n",
      " 'Romania' 'Russia' 'Slovakia' 'Slovenia' 'Spain' 'Sweden' 'Switzerland'\n",
      " 'Turkey' 'Ukraine' 'United Kingdom' 'USA' 'Global']\n",
      "\n",
      "Country codes: \n",
      "['AUS' 'AUT' 'BLR' 'BEL' 'BRA' 'BGR' 'CAN' 'CHN' 'HRV' 'CYP' 'CZE' 'DNK'\n",
      " 'EST' 'FIN' 'FRA' 'DEU' 'GRC' 'HUN' 'ISL' 'IRL' 'ITA' 'JPN' 'KAZ' 'LVA'\n",
      " 'LIE' 'LTU' 'LUX' 'MLT' 'NLD' 'NZL' 'NOR' 'POL' 'PRT' 'KOR' 'ROU' 'RUS'\n",
      " 'SVK' 'SVN' 'ESP' 'SWE' 'CHE' 'TUR' 'UKR' 'GBR' 'USA' 'WLD']\n"
     ]
    }
   ],
   "source": [
    "# Print out the number of countries and which countries are available in the data set:\n",
    "print(f\" There are {len(df['country'].unique())} countries:\")\n",
    "print(df['country'].unique())\n",
    "print(\"\")\n",
    "print(f\"Country codes: \\n{df['country_code'].unique()}\")"
   ]
  },
  {
   "cell_type": "code",
   "execution_count": 5,
   "id": "408faab1",
   "metadata": {},
   "outputs": [
    {
     "name": "stdout",
     "output_type": "stream",
     "text": [
      "<class 'pandas.core.frame.DataFrame'>\n",
      "RangeIndex: 2806 entries, 0 to 2805\n",
      "Data columns (total 13 columns):\n",
      " #   Column        Non-Null Count  Dtype  \n",
      "---  ------        --------------  -----  \n",
      " 0   country       2806 non-null   object \n",
      " 1   country_code  2806 non-null   object \n",
      " 2   year          2806 non-null   int64  \n",
      " 3   total         2806 non-null   float64\n",
      " 4   coal          2777 non-null   float64\n",
      " 5   oil           2777 non-null   float64\n",
      " 6   gas           2777 non-null   float64\n",
      " 7   cement        2776 non-null   float64\n",
      " 8   flaring       2777 non-null   float64\n",
      " 9   other         1530 non-null   float64\n",
      " 10  population    2806 non-null   int64  \n",
      " 11  per_capita    2806 non-null   float64\n",
      " 12  temp_change   2385 non-null   float64\n",
      "dtypes: float64(9), int64(2), object(2)\n",
      "memory usage: 285.1+ KB\n"
     ]
    }
   ],
   "source": [
    "# Checking info for value alignments:\n",
    "df.info()"
   ]
  },
  {
   "cell_type": "markdown",
   "id": "9e028484",
   "metadata": {},
   "source": [
    "- Null values in columns: coal, oil, gas, cement, flaring, other, and temp_change.\n",
    "- \"Other\" column contains the most null values"
   ]
  },
  {
   "cell_type": "code",
   "execution_count": 6,
   "id": "60ac86dd",
   "metadata": {},
   "outputs": [
    {
     "name": "stdout",
     "output_type": "stream",
     "text": [
      "Missing coal values: ['Liechtenstein']\n",
      "Missing gas values: ['Liechtenstein']\n",
      "Missing oil values: ['Liechtenstein']\n",
      "Missing cememnt values: ['Iceland' 'Liechtenstein']\n",
      "Missing flaring values: [nan]\n"
     ]
    }
   ],
   "source": [
    "# Check for missing coal, gas, oil, cement values:\n",
    "print(f\"Missing coal values: {df[df['coal'].isnull()]['country'].unique()}\")\n",
    "print(f\"Missing gas values: {df[df['gas'].isnull()]['country'].unique()}\")\n",
    "print(f\"Missing oil values: {df[df['oil'].isnull()]['country'].unique()}\")\n",
    "print(f\"Missing cememnt values: {df[df['cement'].isnull()]['country'].unique()}\")\n",
    "print(f\"Missing flaring values: {df[df['flaring'].isnull()]['flaring'].unique()}\")"
   ]
  },
  {
   "cell_type": "markdown",
   "id": "ccffc30d",
   "metadata": {},
   "source": [
    "- Most null values are from Liechtenstein"
   ]
  },
  {
   "cell_type": "code",
   "execution_count": 7,
   "id": "30089bba",
   "metadata": {},
   "outputs": [],
   "source": [
    "# Filling 2021 Iceland cement value since we don't want it dropped in the next steps:\n",
    "df[(df['country'] == 'Iceland') & (df['year'] == 2021)] = df[(df['country'] == 'Iceland') & (df['year'] == 2021)].fillna(value=0)"
   ]
  },
  {
   "cell_type": "code",
   "execution_count": 8,
   "id": "021f6bf8",
   "metadata": {
    "scrolled": true
   },
   "outputs": [
    {
     "data": {
      "text/html": [
       "<div>\n",
       "<style scoped>\n",
       "    .dataframe tbody tr th:only-of-type {\n",
       "        vertical-align: middle;\n",
       "    }\n",
       "\n",
       "    .dataframe tbody tr th {\n",
       "        vertical-align: top;\n",
       "    }\n",
       "\n",
       "    .dataframe thead th {\n",
       "        text-align: right;\n",
       "    }\n",
       "</style>\n",
       "<table border=\"1\" class=\"dataframe\">\n",
       "  <thead>\n",
       "    <tr style=\"text-align: right;\">\n",
       "      <th></th>\n",
       "      <th>country</th>\n",
       "      <th>country_code</th>\n",
       "      <th>year</th>\n",
       "      <th>total</th>\n",
       "      <th>coal</th>\n",
       "      <th>oil</th>\n",
       "      <th>gas</th>\n",
       "      <th>cement</th>\n",
       "      <th>flaring</th>\n",
       "      <th>other</th>\n",
       "      <th>population</th>\n",
       "      <th>per_capita</th>\n",
       "      <th>temp_change</th>\n",
       "    </tr>\n",
       "  </thead>\n",
       "  <tbody>\n",
       "    <tr>\n",
       "      <th>0</th>\n",
       "      <td>Australia</td>\n",
       "      <td>AUS</td>\n",
       "      <td>1961</td>\n",
       "      <td>90.503896</td>\n",
       "      <td>59.974780</td>\n",
       "      <td>29.115323</td>\n",
       "      <td>0.000000</td>\n",
       "      <td>1.413794</td>\n",
       "      <td>0.0</td>\n",
       "      <td>NaN</td>\n",
       "      <td>10483000</td>\n",
       "      <td>8.614547</td>\n",
       "      <td>0.151</td>\n",
       "    </tr>\n",
       "    <tr>\n",
       "      <th>1</th>\n",
       "      <td>Australia</td>\n",
       "      <td>AUS</td>\n",
       "      <td>1962</td>\n",
       "      <td>94.823455</td>\n",
       "      <td>61.485584</td>\n",
       "      <td>31.884128</td>\n",
       "      <td>0.003664</td>\n",
       "      <td>1.450079</td>\n",
       "      <td>0.0</td>\n",
       "      <td>NaN</td>\n",
       "      <td>10742000</td>\n",
       "      <td>8.852126</td>\n",
       "      <td>0.118</td>\n",
       "    </tr>\n",
       "    <tr>\n",
       "      <th>2</th>\n",
       "      <td>Australia</td>\n",
       "      <td>AUS</td>\n",
       "      <td>1963</td>\n",
       "      <td>100.934264</td>\n",
       "      <td>63.727952</td>\n",
       "      <td>35.658048</td>\n",
       "      <td>0.007328</td>\n",
       "      <td>1.540936</td>\n",
       "      <td>0.0</td>\n",
       "      <td>NaN</td>\n",
       "      <td>10950000</td>\n",
       "      <td>9.245287</td>\n",
       "      <td>-0.111</td>\n",
       "    </tr>\n",
       "    <tr>\n",
       "      <th>3</th>\n",
       "      <td>Australia</td>\n",
       "      <td>AUS</td>\n",
       "      <td>1964</td>\n",
       "      <td>108.875767</td>\n",
       "      <td>67.133213</td>\n",
       "      <td>39.943584</td>\n",
       "      <td>0.007328</td>\n",
       "      <td>1.791642</td>\n",
       "      <td>0.0</td>\n",
       "      <td>NaN</td>\n",
       "      <td>11167000</td>\n",
       "      <td>9.780775</td>\n",
       "      <td>-0.029</td>\n",
       "    </tr>\n",
       "    <tr>\n",
       "      <th>4</th>\n",
       "      <td>Australia</td>\n",
       "      <td>AUS</td>\n",
       "      <td>1965</td>\n",
       "      <td>120.852669</td>\n",
       "      <td>71.059616</td>\n",
       "      <td>47.906800</td>\n",
       "      <td>0.007328</td>\n",
       "      <td>1.878925</td>\n",
       "      <td>0.0</td>\n",
       "      <td>NaN</td>\n",
       "      <td>11388000</td>\n",
       "      <td>10.638962</td>\n",
       "      <td>0.121</td>\n",
       "    </tr>\n",
       "  </tbody>\n",
       "</table>\n",
       "</div>"
      ],
      "text/plain": [
       "     country country_code  year       total       coal        oil       gas  \\\n",
       "0  Australia          AUS  1961   90.503896  59.974780  29.115323  0.000000   \n",
       "1  Australia          AUS  1962   94.823455  61.485584  31.884128  0.003664   \n",
       "2  Australia          AUS  1963  100.934264  63.727952  35.658048  0.007328   \n",
       "3  Australia          AUS  1964  108.875767  67.133213  39.943584  0.007328   \n",
       "4  Australia          AUS  1965  120.852669  71.059616  47.906800  0.007328   \n",
       "\n",
       "     cement  flaring  other  population  per_capita  temp_change  \n",
       "0  1.413794      0.0    NaN    10483000    8.614547        0.151  \n",
       "1  1.450079      0.0    NaN    10742000    8.852126        0.118  \n",
       "2  1.540936      0.0    NaN    10950000    9.245287       -0.111  \n",
       "3  1.791642      0.0    NaN    11167000    9.780775       -0.029  \n",
       "4  1.878925      0.0    NaN    11388000   10.638962        0.121  "
      ]
     },
     "execution_count": 8,
     "metadata": {},
     "output_type": "execute_result"
    }
   ],
   "source": [
    "# Grabbing only temp_change column values with data:\n",
    "df_temp_full = df[df['temp_change'].notnull()]\n",
    "df_temp_full.head()"
   ]
  },
  {
   "cell_type": "code",
   "execution_count": 9,
   "id": "f026a324",
   "metadata": {},
   "outputs": [
    {
     "data": {
      "text/html": [
       "<div>\n",
       "<style scoped>\n",
       "    .dataframe tbody tr th:only-of-type {\n",
       "        vertical-align: middle;\n",
       "    }\n",
       "\n",
       "    .dataframe tbody tr th {\n",
       "        vertical-align: top;\n",
       "    }\n",
       "\n",
       "    .dataframe thead th {\n",
       "        text-align: right;\n",
       "    }\n",
       "</style>\n",
       "<table border=\"1\" class=\"dataframe\">\n",
       "  <thead>\n",
       "    <tr style=\"text-align: right;\">\n",
       "      <th></th>\n",
       "      <th>country</th>\n",
       "      <th>country_code</th>\n",
       "      <th>year</th>\n",
       "      <th>total</th>\n",
       "      <th>coal</th>\n",
       "      <th>oil</th>\n",
       "      <th>gas</th>\n",
       "      <th>cement</th>\n",
       "      <th>flaring</th>\n",
       "      <th>other</th>\n",
       "      <th>population</th>\n",
       "      <th>per_capita</th>\n",
       "      <th>temp_change</th>\n",
       "    </tr>\n",
       "  </thead>\n",
       "  <tbody>\n",
       "    <tr>\n",
       "      <th>0</th>\n",
       "      <td>Australia</td>\n",
       "      <td>AUS</td>\n",
       "      <td>1961</td>\n",
       "      <td>90.503896</td>\n",
       "      <td>59.974780</td>\n",
       "      <td>29.115323</td>\n",
       "      <td>0.000000</td>\n",
       "      <td>1.413794</td>\n",
       "      <td>0.0</td>\n",
       "      <td>NaN</td>\n",
       "      <td>10483000</td>\n",
       "      <td>8.614547</td>\n",
       "      <td>0.151</td>\n",
       "    </tr>\n",
       "    <tr>\n",
       "      <th>1</th>\n",
       "      <td>Australia</td>\n",
       "      <td>AUS</td>\n",
       "      <td>1962</td>\n",
       "      <td>94.823455</td>\n",
       "      <td>61.485584</td>\n",
       "      <td>31.884128</td>\n",
       "      <td>0.003664</td>\n",
       "      <td>1.450079</td>\n",
       "      <td>0.0</td>\n",
       "      <td>NaN</td>\n",
       "      <td>10742000</td>\n",
       "      <td>8.852126</td>\n",
       "      <td>0.118</td>\n",
       "    </tr>\n",
       "    <tr>\n",
       "      <th>2</th>\n",
       "      <td>Australia</td>\n",
       "      <td>AUS</td>\n",
       "      <td>1963</td>\n",
       "      <td>100.934264</td>\n",
       "      <td>63.727952</td>\n",
       "      <td>35.658048</td>\n",
       "      <td>0.007328</td>\n",
       "      <td>1.540936</td>\n",
       "      <td>0.0</td>\n",
       "      <td>NaN</td>\n",
       "      <td>10950000</td>\n",
       "      <td>9.245287</td>\n",
       "      <td>-0.111</td>\n",
       "    </tr>\n",
       "    <tr>\n",
       "      <th>3</th>\n",
       "      <td>Australia</td>\n",
       "      <td>AUS</td>\n",
       "      <td>1964</td>\n",
       "      <td>108.875767</td>\n",
       "      <td>67.133213</td>\n",
       "      <td>39.943584</td>\n",
       "      <td>0.007328</td>\n",
       "      <td>1.791642</td>\n",
       "      <td>0.0</td>\n",
       "      <td>NaN</td>\n",
       "      <td>11167000</td>\n",
       "      <td>9.780775</td>\n",
       "      <td>-0.029</td>\n",
       "    </tr>\n",
       "    <tr>\n",
       "      <th>4</th>\n",
       "      <td>Australia</td>\n",
       "      <td>AUS</td>\n",
       "      <td>1965</td>\n",
       "      <td>120.852669</td>\n",
       "      <td>71.059616</td>\n",
       "      <td>47.906800</td>\n",
       "      <td>0.007328</td>\n",
       "      <td>1.878925</td>\n",
       "      <td>0.0</td>\n",
       "      <td>NaN</td>\n",
       "      <td>11388000</td>\n",
       "      <td>10.638962</td>\n",
       "      <td>0.121</td>\n",
       "    </tr>\n",
       "  </tbody>\n",
       "</table>\n",
       "</div>"
      ],
      "text/plain": [
       "     country country_code  year       total       coal        oil       gas  \\\n",
       "0  Australia          AUS  1961   90.503896  59.974780  29.115323  0.000000   \n",
       "1  Australia          AUS  1962   94.823455  61.485584  31.884128  0.003664   \n",
       "2  Australia          AUS  1963  100.934264  63.727952  35.658048  0.007328   \n",
       "3  Australia          AUS  1964  108.875767  67.133213  39.943584  0.007328   \n",
       "4  Australia          AUS  1965  120.852669  71.059616  47.906800  0.007328   \n",
       "\n",
       "     cement  flaring  other  population  per_capita  temp_change  \n",
       "0  1.413794      0.0    NaN    10483000    8.614547        0.151  \n",
       "1  1.450079      0.0    NaN    10742000    8.852126        0.118  \n",
       "2  1.540936      0.0    NaN    10950000    9.245287       -0.111  \n",
       "3  1.791642      0.0    NaN    11167000    9.780775       -0.029  \n",
       "4  1.878925      0.0    NaN    11388000   10.638962        0.121  "
      ]
     },
     "execution_count": 9,
     "metadata": {},
     "output_type": "execute_result"
    }
   ],
   "source": [
    "# Grabbing rest of data that != NA:\n",
    "df_full = df_temp_full[df_temp_full['cement'].notnull()]\n",
    "df_full.head()"
   ]
  },
  {
   "cell_type": "code",
   "execution_count": 10,
   "id": "b2937774",
   "metadata": {},
   "outputs": [
    {
     "name": "stdout",
     "output_type": "stream",
     "text": [
      "<class 'pandas.core.frame.DataFrame'>\n",
      "Int64Index: 2356 entries, 0 to 2805\n",
      "Data columns (total 13 columns):\n",
      " #   Column        Non-Null Count  Dtype  \n",
      "---  ------        --------------  -----  \n",
      " 0   country       2356 non-null   object \n",
      " 1   country_code  2356 non-null   object \n",
      " 2   year          2356 non-null   int64  \n",
      " 3   total         2356 non-null   float64\n",
      " 4   coal          2356 non-null   float64\n",
      " 5   oil           2356 non-null   float64\n",
      " 6   gas           2356 non-null   float64\n",
      " 7   cement        2356 non-null   float64\n",
      " 8   flaring       2356 non-null   float64\n",
      " 9   other         1486 non-null   float64\n",
      " 10  population    2356 non-null   int64  \n",
      " 11  per_capita    2356 non-null   float64\n",
      " 12  temp_change   2356 non-null   float64\n",
      "dtypes: float64(9), int64(2), object(2)\n",
      "memory usage: 257.7+ KB\n"
     ]
    }
   ],
   "source": [
    "df_full.info()"
   ]
  },
  {
   "cell_type": "markdown",
   "id": "bbb1df6b",
   "metadata": {},
   "source": [
    "- Other column missing quite a few values.. will fill those rows with zero since the info is important"
   ]
  },
  {
   "cell_type": "code",
   "execution_count": 11,
   "id": "1ff93885",
   "metadata": {},
   "outputs": [
    {
     "name": "stdout",
     "output_type": "stream",
     "text": [
      "<class 'pandas.core.frame.DataFrame'>\n",
      "Int64Index: 2356 entries, 0 to 2805\n",
      "Data columns (total 13 columns):\n",
      " #   Column        Non-Null Count  Dtype  \n",
      "---  ------        --------------  -----  \n",
      " 0   country       2356 non-null   object \n",
      " 1   country_code  2356 non-null   object \n",
      " 2   year          2356 non-null   int64  \n",
      " 3   total         2356 non-null   float64\n",
      " 4   coal          2356 non-null   float64\n",
      " 5   oil           2356 non-null   float64\n",
      " 6   gas           2356 non-null   float64\n",
      " 7   cement        2356 non-null   float64\n",
      " 8   flaring       2356 non-null   float64\n",
      " 9   other         2356 non-null   float64\n",
      " 10  population    2356 non-null   int64  \n",
      " 11  per_capita    2356 non-null   float64\n",
      " 12  temp_change   2356 non-null   float64\n",
      "dtypes: float64(9), int64(2), object(2)\n",
      "memory usage: 257.7+ KB\n"
     ]
    }
   ],
   "source": [
    "# Filling NA values == 0:\n",
    "df2 = df_full.fillna(value=0)\n",
    "df2.info()"
   ]
  },
  {
   "cell_type": "markdown",
   "id": "d9fb6861",
   "metadata": {},
   "source": [
    "- Non-Null Count matches up, woo."
   ]
  },
  {
   "cell_type": "markdown",
   "id": "719143ba",
   "metadata": {},
   "source": [
    "## Encoding"
   ]
  },
  {
   "cell_type": "code",
   "execution_count": 12,
   "id": "4a18937a",
   "metadata": {},
   "outputs": [
    {
     "name": "stdout",
     "output_type": "stream",
     "text": [
      "{'Liechtenstein': 1, 'Malta': 2, 'Iceland': 3, 'Latvia': 4, 'Cyprus': 5, 'Luxembourg': 6, 'Estonia': 7, 'Slovenia': 8, 'Lithuania': 9, 'Croatia': 10, 'Denmark': 11, 'New Zealand': 12, 'Switzerland': 13, 'Slovakia': 14, 'Sweden': 15, 'Ireland': 16, 'Finland': 17, 'Portugal': 18, 'Norway': 19, 'Bulgaria': 20, 'Hungary': 21, 'Greece': 22, 'Belarus': 23, 'Austria': 24, 'Romania': 25, 'Belgium': 26, 'Czech Republic': 27, 'Netherlands': 28, 'Ukraine': 29, 'Spain': 30, 'Kazakhstan': 31, 'France': 32, 'Poland': 33, 'Italy': 34, 'United Kingdom': 35, 'Australia': 36, 'Turkey': 37, 'Brazil': 38, 'Canada': 39, 'South Korea': 40, 'Germany': 41, 'Japan': 42, 'Russia': 43, 'USA': 44, 'China': 45, 'Global': 46}\n"
     ]
    }
   ],
   "source": [
    "country_encoding = {}\n",
    "\n",
    "num = 1\n",
    "\n",
    "for country in df2[df2['year'] == 2021].sort_values(by='total')['country']:\n",
    "    country_encoding[country] = num\n",
    "    num += 1\n",
    "    \n",
    "print(country_encoding)"
   ]
  },
  {
   "cell_type": "code",
   "execution_count": 13,
   "id": "a2adff40",
   "metadata": {},
   "outputs": [
    {
     "data": {
      "text/html": [
       "<div>\n",
       "<style scoped>\n",
       "    .dataframe tbody tr th:only-of-type {\n",
       "        vertical-align: middle;\n",
       "    }\n",
       "\n",
       "    .dataframe tbody tr th {\n",
       "        vertical-align: top;\n",
       "    }\n",
       "\n",
       "    .dataframe thead th {\n",
       "        text-align: right;\n",
       "    }\n",
       "</style>\n",
       "<table border=\"1\" class=\"dataframe\">\n",
       "  <thead>\n",
       "    <tr style=\"text-align: right;\">\n",
       "      <th></th>\n",
       "      <th>country</th>\n",
       "      <th>country_code</th>\n",
       "      <th>year</th>\n",
       "      <th>total</th>\n",
       "      <th>coal</th>\n",
       "      <th>oil</th>\n",
       "      <th>gas</th>\n",
       "      <th>cement</th>\n",
       "      <th>flaring</th>\n",
       "      <th>other</th>\n",
       "      <th>population</th>\n",
       "      <th>per_capita</th>\n",
       "      <th>temp_change</th>\n",
       "      <th>country_num</th>\n",
       "    </tr>\n",
       "  </thead>\n",
       "  <tbody>\n",
       "    <tr>\n",
       "      <th>0</th>\n",
       "      <td>Australia</td>\n",
       "      <td>AUS</td>\n",
       "      <td>1961</td>\n",
       "      <td>90.503896</td>\n",
       "      <td>59.974780</td>\n",
       "      <td>29.115323</td>\n",
       "      <td>0.000000</td>\n",
       "      <td>1.413794</td>\n",
       "      <td>0.0</td>\n",
       "      <td>0.0</td>\n",
       "      <td>10483000</td>\n",
       "      <td>8.614547</td>\n",
       "      <td>0.151</td>\n",
       "      <td>36</td>\n",
       "    </tr>\n",
       "    <tr>\n",
       "      <th>1</th>\n",
       "      <td>Australia</td>\n",
       "      <td>AUS</td>\n",
       "      <td>1962</td>\n",
       "      <td>94.823455</td>\n",
       "      <td>61.485584</td>\n",
       "      <td>31.884128</td>\n",
       "      <td>0.003664</td>\n",
       "      <td>1.450079</td>\n",
       "      <td>0.0</td>\n",
       "      <td>0.0</td>\n",
       "      <td>10742000</td>\n",
       "      <td>8.852126</td>\n",
       "      <td>0.118</td>\n",
       "      <td>36</td>\n",
       "    </tr>\n",
       "    <tr>\n",
       "      <th>2</th>\n",
       "      <td>Australia</td>\n",
       "      <td>AUS</td>\n",
       "      <td>1963</td>\n",
       "      <td>100.934264</td>\n",
       "      <td>63.727952</td>\n",
       "      <td>35.658048</td>\n",
       "      <td>0.007328</td>\n",
       "      <td>1.540936</td>\n",
       "      <td>0.0</td>\n",
       "      <td>0.0</td>\n",
       "      <td>10950000</td>\n",
       "      <td>9.245287</td>\n",
       "      <td>-0.111</td>\n",
       "      <td>36</td>\n",
       "    </tr>\n",
       "    <tr>\n",
       "      <th>3</th>\n",
       "      <td>Australia</td>\n",
       "      <td>AUS</td>\n",
       "      <td>1964</td>\n",
       "      <td>108.875767</td>\n",
       "      <td>67.133213</td>\n",
       "      <td>39.943584</td>\n",
       "      <td>0.007328</td>\n",
       "      <td>1.791642</td>\n",
       "      <td>0.0</td>\n",
       "      <td>0.0</td>\n",
       "      <td>11167000</td>\n",
       "      <td>9.780775</td>\n",
       "      <td>-0.029</td>\n",
       "      <td>36</td>\n",
       "    </tr>\n",
       "    <tr>\n",
       "      <th>4</th>\n",
       "      <td>Australia</td>\n",
       "      <td>AUS</td>\n",
       "      <td>1965</td>\n",
       "      <td>120.852669</td>\n",
       "      <td>71.059616</td>\n",
       "      <td>47.906800</td>\n",
       "      <td>0.007328</td>\n",
       "      <td>1.878925</td>\n",
       "      <td>0.0</td>\n",
       "      <td>0.0</td>\n",
       "      <td>11388000</td>\n",
       "      <td>10.638962</td>\n",
       "      <td>0.121</td>\n",
       "      <td>36</td>\n",
       "    </tr>\n",
       "  </tbody>\n",
       "</table>\n",
       "</div>"
      ],
      "text/plain": [
       "     country country_code  year       total       coal        oil       gas  \\\n",
       "0  Australia          AUS  1961   90.503896  59.974780  29.115323  0.000000   \n",
       "1  Australia          AUS  1962   94.823455  61.485584  31.884128  0.003664   \n",
       "2  Australia          AUS  1963  100.934264  63.727952  35.658048  0.007328   \n",
       "3  Australia          AUS  1964  108.875767  67.133213  39.943584  0.007328   \n",
       "4  Australia          AUS  1965  120.852669  71.059616  47.906800  0.007328   \n",
       "\n",
       "     cement  flaring  other  population  per_capita  temp_change  country_num  \n",
       "0  1.413794      0.0    0.0    10483000    8.614547        0.151           36  \n",
       "1  1.450079      0.0    0.0    10742000    8.852126        0.118           36  \n",
       "2  1.540936      0.0    0.0    10950000    9.245287       -0.111           36  \n",
       "3  1.791642      0.0    0.0    11167000    9.780775       -0.029           36  \n",
       "4  1.878925      0.0    0.0    11388000   10.638962        0.121           36  "
      ]
     },
     "execution_count": 13,
     "metadata": {},
     "output_type": "execute_result"
    }
   ],
   "source": [
    "# Apply this encoding to create a new numerical column for the countries - called country_num\n",
    "df2['country_num'] = df2['country'].apply(lambda x: country_encoding[x])\n",
    "df2.head()"
   ]
  },
  {
   "cell_type": "code",
   "execution_count": 14,
   "id": "236383f7",
   "metadata": {
    "scrolled": true
   },
   "outputs": [
    {
     "data": {
      "text/html": [
       "<div>\n",
       "<style scoped>\n",
       "    .dataframe tbody tr th:only-of-type {\n",
       "        vertical-align: middle;\n",
       "    }\n",
       "\n",
       "    .dataframe tbody tr th {\n",
       "        vertical-align: top;\n",
       "    }\n",
       "\n",
       "    .dataframe thead th {\n",
       "        text-align: right;\n",
       "    }\n",
       "</style>\n",
       "<table border=\"1\" class=\"dataframe\">\n",
       "  <thead>\n",
       "    <tr style=\"text-align: right;\">\n",
       "      <th></th>\n",
       "      <th>country_num</th>\n",
       "      <th>year</th>\n",
       "      <th>total</th>\n",
       "      <th>coal</th>\n",
       "      <th>oil</th>\n",
       "      <th>gas</th>\n",
       "      <th>cement</th>\n",
       "      <th>flaring</th>\n",
       "      <th>other</th>\n",
       "      <th>population</th>\n",
       "      <th>per_capita</th>\n",
       "      <th>temp_change</th>\n",
       "    </tr>\n",
       "  </thead>\n",
       "  <tbody>\n",
       "    <tr>\n",
       "      <th>0</th>\n",
       "      <td>36</td>\n",
       "      <td>1961</td>\n",
       "      <td>90.503896</td>\n",
       "      <td>59.974780</td>\n",
       "      <td>29.115323</td>\n",
       "      <td>0.000000</td>\n",
       "      <td>1.413794</td>\n",
       "      <td>0.0</td>\n",
       "      <td>0.0</td>\n",
       "      <td>10483000</td>\n",
       "      <td>8.614547</td>\n",
       "      <td>0.151</td>\n",
       "    </tr>\n",
       "    <tr>\n",
       "      <th>1</th>\n",
       "      <td>36</td>\n",
       "      <td>1962</td>\n",
       "      <td>94.823455</td>\n",
       "      <td>61.485584</td>\n",
       "      <td>31.884128</td>\n",
       "      <td>0.003664</td>\n",
       "      <td>1.450079</td>\n",
       "      <td>0.0</td>\n",
       "      <td>0.0</td>\n",
       "      <td>10742000</td>\n",
       "      <td>8.852126</td>\n",
       "      <td>0.118</td>\n",
       "    </tr>\n",
       "    <tr>\n",
       "      <th>2</th>\n",
       "      <td>36</td>\n",
       "      <td>1963</td>\n",
       "      <td>100.934264</td>\n",
       "      <td>63.727952</td>\n",
       "      <td>35.658048</td>\n",
       "      <td>0.007328</td>\n",
       "      <td>1.540936</td>\n",
       "      <td>0.0</td>\n",
       "      <td>0.0</td>\n",
       "      <td>10950000</td>\n",
       "      <td>9.245287</td>\n",
       "      <td>-0.111</td>\n",
       "    </tr>\n",
       "    <tr>\n",
       "      <th>3</th>\n",
       "      <td>36</td>\n",
       "      <td>1964</td>\n",
       "      <td>108.875767</td>\n",
       "      <td>67.133213</td>\n",
       "      <td>39.943584</td>\n",
       "      <td>0.007328</td>\n",
       "      <td>1.791642</td>\n",
       "      <td>0.0</td>\n",
       "      <td>0.0</td>\n",
       "      <td>11167000</td>\n",
       "      <td>9.780775</td>\n",
       "      <td>-0.029</td>\n",
       "    </tr>\n",
       "    <tr>\n",
       "      <th>4</th>\n",
       "      <td>36</td>\n",
       "      <td>1965</td>\n",
       "      <td>120.852669</td>\n",
       "      <td>71.059616</td>\n",
       "      <td>47.906800</td>\n",
       "      <td>0.007328</td>\n",
       "      <td>1.878925</td>\n",
       "      <td>0.0</td>\n",
       "      <td>0.0</td>\n",
       "      <td>11388000</td>\n",
       "      <td>10.638962</td>\n",
       "      <td>0.121</td>\n",
       "    </tr>\n",
       "  </tbody>\n",
       "</table>\n",
       "</div>"
      ],
      "text/plain": [
       "   country_num  year       total       coal        oil       gas    cement  \\\n",
       "0           36  1961   90.503896  59.974780  29.115323  0.000000  1.413794   \n",
       "1           36  1962   94.823455  61.485584  31.884128  0.003664  1.450079   \n",
       "2           36  1963  100.934264  63.727952  35.658048  0.007328  1.540936   \n",
       "3           36  1964  108.875767  67.133213  39.943584  0.007328  1.791642   \n",
       "4           36  1965  120.852669  71.059616  47.906800  0.007328  1.878925   \n",
       "\n",
       "   flaring  other  population  per_capita  temp_change  \n",
       "0      0.0    0.0    10483000    8.614547        0.151  \n",
       "1      0.0    0.0    10742000    8.852126        0.118  \n",
       "2      0.0    0.0    10950000    9.245287       -0.111  \n",
       "3      0.0    0.0    11167000    9.780775       -0.029  \n",
       "4      0.0    0.0    11388000   10.638962        0.121  "
      ]
     },
     "execution_count": 14,
     "metadata": {},
     "output_type": "execute_result"
    }
   ],
   "source": [
    "# Make country_num the first column and get rid of the categorical country and country_code columns\n",
    "df_final = df2[['country_num', 'year', 'total', 'coal', 'oil', \n",
    "                      'gas', 'cement', 'flaring', 'other', 'population', \n",
    "                      'per_capita', 'temp_change']]\n",
    "df_final.head()"
   ]
  },
  {
   "cell_type": "code",
   "execution_count": 15,
   "id": "17cd1521",
   "metadata": {},
   "outputs": [
    {
     "name": "stdout",
     "output_type": "stream",
     "text": [
      "<class 'pandas.core.frame.DataFrame'>\n",
      "Int64Index: 2356 entries, 0 to 2805\n",
      "Data columns (total 12 columns):\n",
      " #   Column       Non-Null Count  Dtype  \n",
      "---  ------       --------------  -----  \n",
      " 0   country_num  2356 non-null   int64  \n",
      " 1   year         2356 non-null   int64  \n",
      " 2   total        2356 non-null   float64\n",
      " 3   coal         2356 non-null   float64\n",
      " 4   oil          2356 non-null   float64\n",
      " 5   gas          2356 non-null   float64\n",
      " 6   cement       2356 non-null   float64\n",
      " 7   flaring      2356 non-null   float64\n",
      " 8   other        2356 non-null   float64\n",
      " 9   population   2356 non-null   int64  \n",
      " 10  per_capita   2356 non-null   float64\n",
      " 11  temp_change  2356 non-null   float64\n",
      "dtypes: float64(9), int64(3)\n",
      "memory usage: 239.3 KB\n"
     ]
    }
   ],
   "source": [
    "df_final.info()"
   ]
  },
  {
   "cell_type": "markdown",
   "id": "b99661f2",
   "metadata": {},
   "source": [
    "## Supervised Machine Learning - Regression "
   ]
  },
  {
   "cell_type": "code",
   "execution_count": 16,
   "id": "380deb52",
   "metadata": {},
   "outputs": [],
   "source": [
    "X_train = df_final[df_final['year'] < 2012].drop(columns='temp_change')\n",
    "X_test = df_final[df_final['year'] >= 2012].drop(columns='temp_change')\n",
    "y_train = df_final[df_final['year'] < 2012]['temp_change']\n",
    "y_test = df_final[df_final['year'] >= 2012]['temp_change']"
   ]
  },
  {
   "cell_type": "code",
   "execution_count": 17,
   "id": "8186c1f5",
   "metadata": {},
   "outputs": [],
   "source": [
    "# Scale and fit training data:\n",
    "scaler = StandardScaler()\n",
    "X_scaler = scaler.fit(X_train)\n",
    "\n",
    "X_train_scaled = X_scaler.transform(X_train)\n",
    "X_test_scaled = X_scaler.transform(X_test)"
   ]
  },
  {
   "cell_type": "markdown",
   "id": "a51d4922",
   "metadata": {},
   "source": [
    "### Linear Regression:"
   ]
  },
  {
   "cell_type": "code",
   "execution_count": 21,
   "id": "4a59a167",
   "metadata": {},
   "outputs": [],
   "source": [
    "# LinearRegression fit & predict:\n",
    "model = LinearRegression()\n",
    "model.fit(X_train_scaled, y_train)\n",
    "\n",
    "y_pred = model.predict(X_test_scaled)"
   ]
  },
  {
   "cell_type": "code",
   "execution_count": 23,
   "id": "cbe8ef89",
   "metadata": {},
   "outputs": [
    {
     "name": "stdout",
     "output_type": "stream",
     "text": [
      "Mean Squared Error: 0.4106415538120043\n",
      "Root Mean Squared Error: 0.6408131972829557\n"
     ]
    }
   ],
   "source": [
    "# calculate MSE:\n",
    "mse = mean_squared_error(y_test, y_pred)\n",
    "print(f\"Mean Squared Error: {mse}\")\n",
    "\n",
    "# Evaluating model (RMSE):\n",
    "rmse = np.sqrt(mse)\n",
    "print(f\"Root Mean Squared Error: {rmse}\")"
   ]
  },
  {
   "cell_type": "markdown",
   "id": "3bbb37c5",
   "metadata": {},
   "source": [
    "### RandomForest:"
   ]
  },
  {
   "cell_type": "code",
   "execution_count": 34,
   "id": "1d252887",
   "metadata": {},
   "outputs": [],
   "source": [
    "# RandomForest fit & predict:\n",
    "model2 = RandomForestRegressor()\n",
    "model2.fit(X_train_scaled, y_train)\n",
    "\n",
    "y_pred_RF = model2.predict(X_test_scaled)"
   ]
  },
  {
   "cell_type": "code",
   "execution_count": 35,
   "id": "47a8dc1c",
   "metadata": {},
   "outputs": [
    {
     "name": "stdout",
     "output_type": "stream",
     "text": [
      "Mean Squared Error: 0.4106415538120043\n",
      "Root Mean Squared Error: 0.8373692971786053\n"
     ]
    }
   ],
   "source": [
    "# calculate MSE:\n",
    "mse2 = mean_squared_error(y_test, y_pred_RF)\n",
    "print(f\"Mean Squared Error: {mse}\")\n",
    "\n",
    "# Evaluating model (RMSE):\n",
    "rmse2 = np.sqrt(mse2)\n",
    "print(f\"Root Mean Squared Error: {rmse2}\")"
   ]
  },
  {
   "cell_type": "markdown",
   "id": "8711eace",
   "metadata": {},
   "source": [
    "## Visualizing the models:"
   ]
  },
  {
   "cell_type": "code",
   "execution_count": 36,
   "id": "f9fcab84",
   "metadata": {},
   "outputs": [],
   "source": [
    "# Predict the training set values as well - Linear Regression \n",
    "y_train_pred = model.predict(X_train_scaled)\n",
    "\n",
    "# Predict the training set values as well - Random Forest Regression\n",
    "y_train_pred_RFC = model2.predict(X_train_scaled)"
   ]
  },
  {
   "cell_type": "code",
   "execution_count": 37,
   "id": "050a77a8",
   "metadata": {},
   "outputs": [
    {
     "data": {
      "image/png": "[encoded data removed]",
      "text/plain": [
       "<Figure size 640x480 with 1 Axes>"
      ]
     },
     "metadata": {},
     "output_type": "display_data"
    }
   ],
   "source": [
    "# LogisticRegression\n",
    "years = range(1961,2022)\n",
    "plt.plot(years, np.concatenate((y_train_pred[204:255], y_pred[40:50])), c='red')\n",
    "plt.plot(years, np.concatenate((y_train[204:255], y_test[40:50])), c='blue')\n",
    "plt.show()"
   ]
  },
  {
   "cell_type": "code",
   "execution_count": 40,
   "id": "77800ee9",
   "metadata": {},
   "outputs": [
    {
     "data": {
      "image/png": "[encoded data removed]",
      "text/plain": [
       "<Figure size 640x480 with 1 Axes>"
      ]
     },
     "metadata": {},
     "output_type": "display_data"
    }
   ],
   "source": [
    "# RandomForest\n",
    "years = range(1961,2022)\n",
    "plt.plot(years, np.concatenate((y_train_pred_RFC[204:255], y_pred_RF[40:50])), c='red')\n",
    "plt.plot(years, np.concatenate((y_train[204:255], y_test[40:50])), c='blue')\n",
    "plt.show()"
   ]
  },
  {
   "cell_type": "code",
   "execution_count": null,
   "id": "fb736a79",
   "metadata": {},
   "outputs": [],
   "source": []
  }
 ],
 "metadata": {
  "kernelspec": {
   "display_name": "mlenv",
   "language": "python",
   "name": "mlenv"
  },
  "language_info": {
   "codemirror_mode": {
    "name": "ipython",
    "version": 3
   },
   "file_extension": ".py",
   "mimetype": "text/x-python",
   "name": "python",
   "nbconvert_exporter": "python",
   "pygments_lexer": "ipython3",
   "version": "3.7.13"
  }
 },
 "nbformat": 4,
 "nbformat_minor": 5
}
